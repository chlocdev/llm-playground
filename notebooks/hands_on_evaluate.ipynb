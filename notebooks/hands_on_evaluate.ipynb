{
 "cells": [
  {
   "cell_type": "markdown",
   "id": "ca9bf754-d356-4ba2-b74c-31b1fabd7f36",
   "metadata": {},
   "source": [
    "### [evaluate-metric](https://huggingface.co/evaluate-metric)\n",
    "\n",
    "https://huggingface.co/spaces/evaluate-metric/bleu\n",
    "\n",
    "https://huggingface.co/spaces/evaluate-metric/meteor\n",
    "\n",
    "https://huggingface.co/spaces/evaluate-metric/rouge\n",
    "\n",
    "https://huggingface.co/spaces/evaluate-metric/perplexity"
   ]
  },
  {
   "cell_type": "code",
   "execution_count": null,
   "id": "8e498a4f-017e-4b38-91e4-59c1be3213e7",
   "metadata": {},
   "outputs": [],
   "source": []
  }
 ],
 "metadata": {
  "kernelspec": {
   "display_name": "Python 3 (ipykernel)",
   "language": "python",
   "name": "python3"
  },
  "language_info": {
   "codemirror_mode": {
    "name": "ipython",
    "version": 3
   },
   "file_extension": ".py",
   "mimetype": "text/x-python",
   "name": "python",
   "nbconvert_exporter": "python",
   "pygments_lexer": "ipython3",
   "version": "3.8.19"
  }
 },
 "nbformat": 4,
 "nbformat_minor": 5
}
