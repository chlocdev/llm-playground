{
 "cells": [
  {
   "cell_type": "markdown",
   "id": "ca9bf754-d356-4ba2-b74c-31b1fabd7f36",
   "metadata": {},
   "source": [
    "### [evaluate-metric](https://huggingface.co/evaluate-metric)\n",
    "\n",
    "https://huggingface.co/spaces/evaluate-metric/bleu\n",
    "\n",
    "https://huggingface.co/spaces/evaluate-metric/rouge\n",
    "\n",
    "https://huggingface.co/spaces/evaluate-metric/meteor\n",
    "\n",
    "https://huggingface.co/spaces/evaluate-metric/perplexity"
   ]
  },
  {
   "cell_type": "code",
   "execution_count": 2,
   "id": "063315a1-8140-41a9-a914-a03a676a4ae6",
   "metadata": {},
   "outputs": [],
   "source": [
    "import evaluate"
   ]
  },
  {
   "cell_type": "markdown",
   "id": "1ca989ff-ab1a-410b-ad1f-3c04d9f03459",
   "metadata": {},
   "source": [
    "The **BLEU (Bilingual Evaluation Understudy)** BLEU (Bilingual Evaluation Understudy) is an algorithm for evaluating the quality of text which has been machine-translated from one natural language to another ( evaluating a generated sentence to a reference sentence ). Quality is considered to be the correspondence between a machine’s output and that of a human: “the closer a machine translation is to a professional human translation, the better it is” – this is the central idea behind BLEU. BLEU was one of the first metrics to claim a high correlation with human judgements of quality, and remains one of the most popular automated and inexpensive metrics.\n",
    "\n",
    "Scores are calculated for individual translated segments—generally sentences—by comparing them with a set of good quality reference translations. Those scores are then averaged over the whole corpus to reach an estimate of the translation’s overall quality. Neither intelligibility nor grammatical correctness are not taken into account. Here's the formula to calculate the BLEU score:\n",
    "\n",
    "### BLEU score formula:\n",
    "\n",
    "\\$\n",
    "\\text{BLEU} = \\text{BP} \\times \\exp\\left( \\sum_{n=1}^{N} w_n \\cdot \\log p_n \\right)\n",
    "\\$\n",
    "\n",
    "Where:\n",
    "\n",
    "- **BP** is the **brevity penalty** to account for shorter candidate translations:\n",
    "  \\$\n",
    "  \\text{BP} = \n",
    "  \\begin{cases} \n",
    "  1 & \\text{if } c > r \\\\\n",
    "  e^{(1 - \\frac{r}{c})} & \\text{if } c \\leq r\n",
    "  \\end{cases}\n",
    "  \\$\n",
    "  - \\$ c \\$ is the length of the candidate translation.\n",
    "  - \\$ r \\$ is the length of the reference translation.\n",
    "\n",
    "- **\\$ p_n \\$** is the precision for n-grams of size \\( n \\):\n",
    "  \\$\n",
    "  p_n = \\frac{\\text{number of matched n-grams}}{\\text{total n-grams in the candidate}}\n",
    "  \\$\n",
    "\n",
    "- **\\$ w_n \\$** is the weight for each n-gram level, typically uniform:\n",
    "  \\$\n",
    "  w_n = \\frac{1}{N}\n",
    "  \\$\n",
    "  For example, if using 4-grams, the weights are \\$ w_1 = w_2 = w_3 = w_4 = 0.25 \\$.\n",
    "\n",
    "- **N** is the maximum length of the n-grams (often 4, so you consider unigrams, bigrams, trigrams, and 4-grams).\n",
    "\n",
    "### Steps for calculation:\n",
    "1. **Calculate precision** for unigrams, bigrams, trigrams, etc.\n",
    "2. **Apply the brevity penalty** (BP) to penalize overly short candidate translations.\n",
    "3. Combine the precision values for different n-grams using the geometric mean (exponential of their sum).\n",
    "4. Multiply the result by the brevity penalty.\n",
    "\n",
    "### Limitations and Bias\n",
    "\n",
    "This metric has multiple known limitations:\n",
    "\n",
    "- BLEU compares overlap in tokens from the predictions and references, instead of comparing meaning. This can lead to discrepancies between BLEU scores and human ratings.\n",
    "\n",
    "- Shorter predicted translations achieve higher scores than longer ones, simply due to how the score is calculated. A brevity penalty is introduced to attempt to counteract this.\n",
    "\n",
    "- BLEU scores are not comparable across different datasets, nor are they comparable across different languages.\n",
    "\n",
    "- BLEU scores can vary greatly depending on which parameters are used to generate the scores, especially when different tokenization and normalization techniques are used. It is therefore not possible to compare BLEU scores generated using different parameters, or when these parameters are unknown. For more discussion around this topic, see the following issue.\n"
   ]
  },
  {
   "cell_type": "markdown",
   "id": "ccfd4d79-10c1-4f58-83ad-3af4acab11ba",
   "metadata": {},
   "source": [
    "Example where each prediction has 1 reference:"
   ]
  },
  {
   "cell_type": "code",
   "execution_count": 6,
   "id": "6a6abcab-b2ca-4b95-a153-ae8f69d8bcd5",
   "metadata": {},
   "outputs": [
    {
     "name": "stdout",
     "output_type": "stream",
     "text": [
      "{'bleu': 1.0, 'precisions': [1.0, 1.0, 1.0, 1.0], 'brevity_penalty': 1.0, 'length_ratio': 1.0, 'translation_length': 7, 'reference_length': 7}\n"
     ]
    }
   ],
   "source": [
    "predictions = [\"hello there general kenobi\",\"foo bar foobar\"]\n",
    "\n",
    "references = [[\"hello there general kenobi\"],\n",
    "              [\"foo bar foobar\"]\n",
    "             ]\n",
    "\n",
    "bleu = evaluate.load(\"bleu\")\n",
    "\n",
    "results = bleu.compute(predictions=predictions, references=references)\n",
    "\n",
    "print(results)"
   ]
  },
  {
   "cell_type": "markdown",
   "id": "789fba2f-e2d9-4ff7-9747-e5f70d9be475",
   "metadata": {},
   "source": [
    "Example where the second prediction has 2 references:"
   ]
  },
  {
   "cell_type": "code",
   "execution_count": 19,
   "id": "6d537485-0bca-422b-8cb0-b23b7e2b7d8d",
   "metadata": {},
   "outputs": [
    {
     "name": "stdout",
     "output_type": "stream",
     "text": [
      "{'bleu': 1.0, 'precisions': [1.0, 1.0, 1.0, 1.0], 'brevity_penalty': 1.0, 'length_ratio': 1.4, 'translation_length': 7, 'reference_length': 5}\n"
     ]
    }
   ],
   "source": [
    "predictions = [\n",
    "    \"hello there general kenobi\",\n",
    "    \"foo bar foobar\"\n",
    "]\n",
    "\n",
    "references = [\n",
    "    [\"hello there general kenobi\", \"hello there!\"],  # Keep references closer to predictions\n",
    "    [\"foo bar foobar\", \"foo bar\"]  # Ensure all n-grams match\n",
    "]\n",
    "\n",
    "bleu = evaluate.load(\"bleu\")\n",
    "\n",
    "results = bleu.compute(predictions=predictions, references=references)\n",
    "\n",
    "print(results)\n"
   ]
  },
  {
   "cell_type": "markdown",
   "id": "28d4349a-b2d5-442e-8a4c-6a2796b7177b",
   "metadata": {},
   "source": [
    "Example with the word tokenizer from NLTK:"
   ]
  },
  {
   "cell_type": "code",
   "execution_count": 21,
   "id": "2a5c5280-afaf-4e42-be04-c92b6df22783",
   "metadata": {},
   "outputs": [
    {
     "name": "stderr",
     "output_type": "stream",
     "text": [
      "[nltk_data] Downloading package punkt_tab to /home/loc/nltk_data...\n",
      "[nltk_data]   Unzipping tokenizers/punkt_tab.zip.\n"
     ]
    },
    {
     "name": "stdout",
     "output_type": "stream",
     "text": [
      "{'bleu': 1.0, 'precisions': [1.0, 1.0, 1.0, 1.0], 'brevity_penalty': 1.0, 'length_ratio': 1.4, 'translation_length': 7, 'reference_length': 5}\n"
     ]
    }
   ],
   "source": [
    "import nltk\n",
    "nltk.download('punkt_tab')\n",
    "from nltk.tokenize import word_tokenize\n",
    "\n",
    "predictions = [\n",
    "    \"hello there general kenobi\",\n",
    "    \"foo bar foobar\"\n",
    "]\n",
    "\n",
    "references = [\n",
    "    [\"hello there general kenobi\", \"hello there!\"],  # Keep references closer to predictions\n",
    "    [\"foo bar foobar\", \"foo bar\"]  # Ensure all n-grams match\n",
    "]\n",
    "\n",
    "bleu = evaluate.load(\"bleu\")\n",
    "\n",
    "results = bleu.compute(predictions=predictions, references=references, tokenizer=word_tokenize)\n",
    "\n",
    "print(results)"
   ]
  },
  {
   "cell_type": "markdown",
   "id": "f3fa1ecd-9bb0-4201-96e0-c9eeb92db88f",
   "metadata": {},
   "source": [
    "The **ROUGE (Recall-Oriented Understudy for Gisting Evaluation)** score is a set of metrics used to evaluate the quality of text, typically in summarization or machine translation, by comparing the overlap between the generated text and reference text. The most commonly used variants are **ROUGE-N**, **ROUGE-L**, and **ROUGE-W**.\n",
    "\n",
    "### 1. **ROUGE-N** (N-gram overlap)\n",
    "Measures the overlap of n-grams between the candidate and reference text.\n",
    "\n",
    "$$\n",
    "\\text{ROUGE-N} = \\frac{\\sum_{\\text{n-gram} \\in \\text{Reference}} \\min(\\text{Count}_{\\text{candidate}}(\\text{n-gram}), \\text{Count}_{\\text{Reference}}(\\text{n-gram}))}{\\sum_{\\text{n-gram} \\in \\text{Reference}} \\text{Count}_{\\text{Reference}}(\\text{n-gram})}\n",
    "$$\n",
    "\n",
    "\n",
    "\n",
    "Where:\n",
    "- \\$ \\text{Count}_{\\text{match}}(\\text{n-gram}) \\$ is the number of n-grams that match between the candidate and reference.\n",
    "- \\$ \\text{Count}_{\\text{Reference}}(\\text{n-gram}) \\$ is the total number of n-grams in the reference text.\n",
    "- \\$ N \\$ refers to the size of the n-gram (e.g., unigrams, bigrams, trigrams, etc.).\n",
    "\n",
    "#### Example for ROUGE-1 (unigram overlap):\n",
    "\\$\n",
    "\\text{ROUGE-1} = \\frac{\\text{Number of overlapping unigrams}}{\\text{Total unigrams in reference}}\n",
    "\\$\n",
    "\n",
    "### 2. **ROUGE-L** (Longest Common Subsequence)\n",
    "Measures the longest common subsequence (LCS) between the candidate and reference text.\n",
    "\n",
    "\\$\n",
    "\\text{ROUGE-L} = \\frac{LCS(\\text{candidate}, \\text{reference})}{\\text{length of reference}}\n",
    "\\$\n",
    "\n",
    "Where:\n",
    "- \\$ LCS(\\text{candidate}, \\text{reference}) \\$ is the length of the longest common subsequence between the candidate and reference text.\n",
    "\n",
    "### 3. **ROUGE-W** (Weighted Longest Common Subsequence)\n",
    "This is similar to ROUGE-L but gives more weight to consecutive matches in the longest common subsequence. It penalizes scattered matches.\n",
    "\n",
    "\\$\n",
    "\\text{ROUGE-W} = \\frac{LCS_{\\text{weighted}}(\\text{candidate}, \\text{reference})}{\\text{length of reference}}\n",
    "\\$\n",
    "\n",
    "Where \\$ LCS_{\\text{weighted}} \\$ assigns higher weights to consecutive matching words in the sequence.\n",
    "\n",
    "### 4. **ROUGE-S** (Skip-bigram)\n",
    "Measures the overlap of skip-bigrams, which are pairs of words that occur in both texts in the same order, allowing for gaps in between.\n",
    "\n",
    "\\$\n",
    "\\text{ROUGE-S} = \\frac{\\text{Number of matching skip-bigrams}}{\\text{Total skip-bigrams in reference}}\n",
    "\\$\n",
    "\n",
    "### Key Variants:\n",
    "- **ROUGE-N**: Precision, recall, and F1-score can be computed. The formula above calculates **recall**, while **precision** would use the total n-grams in the candidate as the denominator.\n",
    "  \n",
    "- **ROUGE-L**: Measures recall based on the LCS, but precision and F1-score variants can also be calculated using the candidate’s length.\n",
    "\n",
    "### F1-score for ROUGE:\n",
    "You can combine **precision** and **recall** into the **F1-score** as:\n",
    "\n",
    "\\$\n",
    "\\text{F1} = \\frac{2 \\times \\text{Precision} \\times \\text{Recall}}{\\text{Precision} + \\text{Recall}}\n",
    "\\$\n",
    "\n",
    "Would you like help implementing any of these ROUGE metrics in code?\n",
    "\n",
    "\n",
    "```\n",
    "ImportError: To be able to use evaluate-metric/rouge, you need to install the following dependencies['absl', 'rouge_score'] using 'pip install # Here to have a nice missing dependency error message early on rouge_score' for instance'\n",
    "```"
   ]
  },
  {
   "cell_type": "code",
   "execution_count": 5,
   "id": "bdc2c8aa-73eb-43b6-87a3-2d5c2dcb5f03",
   "metadata": {},
   "outputs": [],
   "source": [
    "# !pip install absl-py rouge-score"
   ]
  },
  {
   "cell_type": "markdown",
   "id": "20bdd629-7800-4a86-b0c0-1eb35509cd3c",
   "metadata": {},
   "source": [
    "At minimum, this metric takes as input a list of predictions and a list of references:"
   ]
  },
  {
   "cell_type": "code",
   "execution_count": 6,
   "id": "d7ad595a-e103-4c76-8c0d-90a1b3aba5b6",
   "metadata": {},
   "outputs": [
    {
     "name": "stdout",
     "output_type": "stream",
     "text": [
      "{'rouge1': 1.0, 'rouge2': 1.0, 'rougeL': 1.0, 'rougeLsum': 1.0}\n"
     ]
    }
   ],
   "source": [
    "rouge = evaluate.load('rouge')\n",
    "\n",
    "predictions = [\"hello there\", \"general kenobi\"]\n",
    "\n",
    "references = [\"hello there\", \"general kenobi\"]\n",
    "\n",
    "results = rouge.compute(predictions=predictions,\n",
    "                       references=references)\n",
    "\n",
    "print(results)"
   ]
  },
  {
   "cell_type": "markdown",
   "id": "b3397807-873c-4eb9-8f09-88a1862c7e10",
   "metadata": {},
   "source": [
    "One can also pass a custom tokenizer which is especially useful for non-latin languages."
   ]
  },
  {
   "cell_type": "code",
   "execution_count": 7,
   "id": "da1aec33-3952-45d8-b3a5-364f1f4ceff2",
   "metadata": {},
   "outputs": [
    {
     "name": "stdout",
     "output_type": "stream",
     "text": [
      "{'rouge1': 1.0, 'rouge2': 1.0, 'rougeL': 1.0, 'rougeLsum': 1.0}\n"
     ]
    }
   ],
   "source": [
    "results = rouge.compute(predictions=predictions,\n",
    "                       references=references,\n",
    "                       tokenizer=lambda x:x.split())\n",
    "\n",
    "print(results)"
   ]
  },
  {
   "cell_type": "markdown",
   "id": "fdcc8221-7138-463e-b278-3a873de0db6d",
   "metadata": {},
   "source": [
    "It can also deal with lists of references for each predictions:"
   ]
  },
  {
   "cell_type": "code",
   "execution_count": 9,
   "id": "3df27ec4-ef56-4251-8a2d-640e8d850d56",
   "metadata": {},
   "outputs": [
    {
     "name": "stdout",
     "output_type": "stream",
     "text": [
      "{'rouge1': 0.8333333333333333, 'rouge2': 0.5, 'rougeL': 0.8333333333333333, 'rougeLsum': 0.8333333333333333}\n"
     ]
    }
   ],
   "source": [
    "predictions = [\"hello there\", \"general kenobi\"]\n",
    "\n",
    "references = [[\"hello\", \"there\"], [\"general kenobi\", \"general yoda\"]]\n",
    "\n",
    "results = rouge.compute(predictions=predictions,references=references)\n",
    "\n",
    "print(results)"
   ]
  },
  {
   "cell_type": "markdown",
   "id": "694821a9-4ea3-4dd6-aaf2-eddf0050fcd7",
   "metadata": {},
   "source": [
    "The **METEOR** (Metric for Evaluation of Translation with Explicit ORdering) score is a popular metric used to evaluate the quality of machine translations. It incorporates several factors such as precision, recall, synonymy, stemming, and word order to provide a more nuanced evaluation than some other metrics like BLEU.\n",
    "\n",
    "The general steps to compute the METEOR score involve:\n",
    "\n",
    "1. **Exact word matching** between the candidate and reference translations.\n",
    "2. **Stemming** to match variations of the same word (e.g., “running” and “run”).\n",
    "3. **Synonymy** to match synonyms (e.g., “big” and “large”).\n",
    "4. **Penalty for fragmentation** to account for how well word order is preserved.\n",
    "\n",
    "The basic formula for the METEOR score is:\n",
    "\n",
    "\\$\n",
    "\\text{METEOR} = (1 - P) \\cdot F_{\\text{mean}}\n",
    "\\$\n",
    "\n",
    "Where:\n",
    "\n",
    "- \\$ P \\$ is a penalty based on how fragmented the matches are (i.e., if the word order between the candidate and reference translations is not preserved, this increases).\n",
    "- \\$ F_{\\text{mean}} \\$ is a weighted harmonic mean of precision (\\$ P \\$) and recall (\\$ R \\$):\n",
    "\n",
    "\\$\n",
    "F_{\\text{mean}} = \\frac{10 \\cdot P \\cdot R}{9 \\cdot P + R}\n",
    "\\$\n",
    "\n",
    "Here:\n",
    "\n",
    "- **Precision (\\$ P \\$)** is the proportion of matched words in the candidate translation to the total number of words in the candidate translation.\n",
    "- **Recall (\\$ R \\$)** is the proportion of matched words in the candidate translation to the total number of words in the reference translation.\n",
    "\n",
    "The penalty \\$ P \\$ is computed based on the number of chunks, which refers to groups of consecutive words in the candidate translation that match words in the reference translation in the correct order. If the word order is more disordered, the penalty increases.\n",
    "\n",
    "\\$\n",
    "P = 0.5 \\cdot \\left(\\frac{\\text{number of chunks}}{\\text{number of matched words}}\\right)\n",
    "\\$\n",
    "\n",
    "The final METEOR score balances recall and precision with penalties for word order mismatches and fragmentation.\n",
    "\n",
    "### Key Components:\n",
    "- **Precision**: How much of the candidate translation overlaps with the reference translation.\n",
    "- **Recall**: How much of the reference translation is covered by the candidate translation.\n",
    "- **Fragmentation Penalty**: Penalizes candidate translations that do not preserve the word order.\n",
    "\n",
    "Let me know if you'd like more details or a concrete example!"
   ]
  },
  {
   "cell_type": "code",
   "execution_count": null,
   "id": "78b18778-5665-4d9c-aaa7-2785ecec1be4",
   "metadata": {},
   "outputs": [
    {
     "name": "stderr",
     "output_type": "stream",
     "text": [
      "[nltk_data] Downloading package wordnet to /home/loc/nltk_data...\n",
      "[nltk_data]   Package wordnet is already up-to-date!\n",
      "[nltk_data] Downloading package punkt_tab to /home/loc/nltk_data...\n",
      "[nltk_data]   Package punkt_tab is already up-to-date!\n",
      "[nltk_data] Downloading package omw-1.4 to /home/loc/nltk_data...\n"
     ]
    }
   ],
   "source": [
    "from evaluate import load\n",
    "\n",
    "meteor = evaluate.load('meteor')\n",
    "\n",
    "predictions = [\"It is a guide to action which ensures that the military always obeys the commands of the party\"]\n",
    "reference = [\"It is a guide to action which ensures that the military always obeys the commands of the party\"]\n",
    "\n",
    "results = meteor.compute(predictions=predictions, references=reference)\n",
    "\n",
    "print(round(results['meteor'], 2))"
   ]
  },
  {
   "cell_type": "markdown",
   "id": "f8cbc403-3eab-4259-880f-306b665b5371",
   "metadata": {},
   "source": [
    "The **perplexity** score is commonly used to evaluate language models. It measures how well a probability model predicts a sample. Specifically, perplexity can be understood as the inverse probability of the test set normalized by the number of words. Lower perplexity indicates a better model.\n",
    "\n",
    "The formula for **perplexity** is:\n",
    "\n",
    "\\$\n",
    "\\text{Perplexity}(P) = 2^{-\\frac{1}{N} \\sum_{i=1}^{N} \\log_2 P(w_i)}\n",
    "\\$\n",
    "\n",
    "Where:\n",
    "- \\$ P(w_i) \\$ is the probability assigned by the model to the \\$i\\$-th word in the sequence.\n",
    "- \\$ N \\$ is the total number of words in the sequence.\n",
    "\n",
    "Alternatively, if using natural logarithms, the formula becomes:\n",
    "\n",
    "\\$\n",
    "\\text{Perplexity}(P) = e^{-\\frac{1}{N} \\sum_{i=1}^{N} \\log P(w_i)}\n",
    "\\$\n",
    "\n",
    "### Interpretation:\n",
    "\n",
    "- **\\$ P(w_i) \\$** represents the probability the model assigns to the word \\$ w_i \\$.\n",
    "- The sum of the log probabilities over the sequence is averaged over \\$ N \\$ (the number of words).\n",
    "- The result is then exponentiated to give a positive number, which represents the perplexity.\n",
    "\n",
    "### Key Points:\n",
    "- Lower perplexity is better, meaning the model is less \"perplexed\" by the data and assigns higher probabilities to the correct sequences.\n",
    "- If a model predicts a word sequence perfectly, the perplexity will be 1.\n",
    "- Higher perplexity means the model is uncertain and assigns low probabilities to the sequence.\n",
    "\n",
    "Perplexity is commonly used in evaluating models such as n-gram models, neural network-based models, and large language models."
   ]
  },
  {
   "cell_type": "markdown",
   "id": "796ca03f-eb5b-4b4d-90ef-c5737223f30f",
   "metadata": {},
   "source": [
    "Calculating perplexity on predictions defined here:"
   ]
  },
  {
   "cell_type": "code",
   "execution_count": 16,
   "id": "fc45f8a6-b26b-4dff-99b3-c0412ddd5f1c",
   "metadata": {},
   "outputs": [
    {
     "data": {
      "application/vnd.jupyter.widget-view+json": {
       "model_id": "dd4706ad14104090b6ce0120b0d96136",
       "version_major": 2,
       "version_minor": 0
      },
      "text/plain": [
       "  0%|          | 0/1 [00:00<?, ?it/s]"
      ]
     },
     "metadata": {},
     "output_type": "display_data"
    },
    {
     "name": "stdout",
     "output_type": "stream",
     "text": [
      "['perplexities', 'mean_perplexity']\n",
      "{'perplexities': [32.25433349609375, 1499.6904296875, 408.2761535644531], 'mean_perplexity': 646.7403055826823}\n"
     ]
    }
   ],
   "source": [
    "from evaluate import load\n",
    "\n",
    "perplexity = evaluate.load(\"perplexity\", module_type=\"metric\")\n",
    "\n",
    "input_texts = [\"lorem ipsum\", \"Happy Birthday!\", \"Bienvenue\"]\n",
    "\n",
    "results = perplexity.compute(model_id='gpt2',\n",
    "                             add_start_token=False,\n",
    "                             predictions=input_texts)\n",
    "print(list(results.keys()))\n",
    "\n",
    "print(results)"
   ]
  },
  {
   "cell_type": "markdown",
   "id": "4d4ef9d5-1fe8-4a28-be3b-9ee836494ae6",
   "metadata": {},
   "source": [
    "Calculating perplexity on predictions loaded in from a dataset:"
   ]
  },
  {
   "cell_type": "code",
   "execution_count": 17,
   "id": "d32e593e-422a-4029-804a-e521c176fed7",
   "metadata": {},
   "outputs": [
    {
     "data": {
      "application/vnd.jupyter.widget-view+json": {
       "model_id": "a3f247dde88e45cfbcb8f62130bfd72e",
       "version_major": 2,
       "version_minor": 0
      },
      "text/plain": [
       "  0%|          | 0/2 [00:00<?, ?it/s]"
      ]
     },
     "metadata": {},
     "output_type": "display_data"
    },
    {
     "name": "stdout",
     "output_type": "stream",
     "text": [
      "['perplexities', 'mean_perplexity']\n"
     ]
    },
    {
     "data": {
      "text/plain": [
       "{'perplexities': [567.9088134765625,\n",
       "  56.67512512207031,\n",
       "  43.7514533996582,\n",
       "  446.309326171875,\n",
       "  105.64181518554688,\n",
       "  46.81957244873047,\n",
       "  58.58171463012695,\n",
       "  104.24046325683594,\n",
       "  54.72477340698242,\n",
       "  47.75749588012695,\n",
       "  344.9775085449219,\n",
       "  125.95054626464844,\n",
       "  127.30074310302734,\n",
       "  121.87387084960938,\n",
       "  5530.92724609375,\n",
       "  63.25591278076172,\n",
       "  40.26132583618164,\n",
       "  221.20889282226562,\n",
       "  67.8737564086914,\n",
       "  124.36256408691406,\n",
       "  51.45122528076172,\n",
       "  28.862401962280273,\n",
       "  90.88360595703125,\n",
       "  52.91471862792969,\n",
       "  43.79275131225586,\n",
       "  65.90267181396484,\n",
       "  28.63719367980957],\n",
       " 'mean_perplexity': 320.846203274197}"
      ]
     },
     "execution_count": 17,
     "metadata": {},
     "output_type": "execute_result"
    }
   ],
   "source": [
    "import datasets\n",
    "\n",
    "perplexity = evaluate.load(\"perplexity\", module_type=\"metric\")\n",
    "\n",
    "input_texts = datasets.load_dataset(\"wikitext\",\n",
    "                                    \"wikitext-2-raw-v1\",\n",
    "                                    split=\"test\")[\"text\"][:50]\n",
    "input_texts = [s for s in input_texts if s!='']\n",
    "results = perplexity.compute(model_id='gpt2',\n",
    "                             predictions=input_texts)\n",
    "\n",
    "print(list(results.keys()))\n",
    "\n",
    "results"
   ]
  },
  {
   "cell_type": "code",
   "execution_count": null,
   "id": "fbc5a106-8417-4c02-8762-24a59311fee8",
   "metadata": {},
   "outputs": [],
   "source": []
  }
 ],
 "metadata": {
  "kernelspec": {
   "display_name": "Python 3 (ipykernel)",
   "language": "python",
   "name": "python3"
  },
  "language_info": {
   "codemirror_mode": {
    "name": "ipython",
    "version": 3
   },
   "file_extension": ".py",
   "mimetype": "text/x-python",
   "name": "python",
   "nbconvert_exporter": "python",
   "pygments_lexer": "ipython3",
   "version": "3.8.19"
  }
 },
 "nbformat": 4,
 "nbformat_minor": 5
}
