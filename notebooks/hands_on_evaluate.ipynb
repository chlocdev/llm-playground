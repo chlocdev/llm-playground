{
 "cells": [
  {
   "cell_type": "markdown",
   "id": "ca9bf754-d356-4ba2-b74c-31b1fabd7f36",
   "metadata": {},
   "source": [
    "### [evaluate-metric](https://huggingface.co/evaluate-metric)\n",
    "\n",
    "https://huggingface.co/spaces/evaluate-metric/bleu\n",
    "\n",
    "https://huggingface.co/spaces/evaluate-metric/rouge\n",
    "\n",
    "https://huggingface.co/spaces/evaluate-metric/meteor\n",
    "\n",
    "https://huggingface.co/spaces/evaluate-metric/perplexity"
   ]
  },
  {
   "cell_type": "code",
   "execution_count": 2,
   "id": "063315a1-8140-41a9-a914-a03a676a4ae6",
   "metadata": {},
   "outputs": [],
   "source": [
    "import evaluate"
   ]
  },
  {
   "cell_type": "markdown",
   "id": "1ca989ff-ab1a-410b-ad1f-3c04d9f03459",
   "metadata": {},
   "source": [
    "The **BLEU (Bilingual Evaluation Understudy)** BLEU (Bilingual Evaluation Understudy) is an algorithm for evaluating the quality of text which has been machine-translated from one natural language to another ( evaluating a generated sentence to a reference sentence ). Quality is considered to be the correspondence between a machine’s output and that of a human: “the closer a machine translation is to a professional human translation, the better it is” – this is the central idea behind BLEU. BLEU was one of the first metrics to claim a high correlation with human judgements of quality, and remains one of the most popular automated and inexpensive metrics.\n",
    "\n",
    "Scores are calculated for individual translated segments—generally sentences—by comparing them with a set of good quality reference translations. Those scores are then averaged over the whole corpus to reach an estimate of the translation’s overall quality. Neither intelligibility nor grammatical correctness are not taken into account. Here's the formula to calculate the BLEU score:\n",
    "\n",
    "### BLEU score formula:\n",
    "\n",
    "\\$\n",
    "\\text{BLEU} = \\text{BP} \\times \\exp\\left( \\sum_{n=1}^{N} w_n \\cdot \\log p_n \\right)\n",
    "\\$\n",
    "\n",
    "Where:\n",
    "\n",
    "- **BP** is the **brevity penalty** to account for shorter candidate translations:\n",
    "  \\$\n",
    "  \\text{BP} = \n",
    "  \\begin{cases} \n",
    "  1 & \\text{if } c > r \\\\\n",
    "  e^{(1 - \\frac{r}{c})} & \\text{if } c \\leq r\n",
    "  \\end{cases}\n",
    "  \\$\n",
    "  - \\$ c \\$ is the length of the candidate translation.\n",
    "  - \\$ r \\$ is the length of the reference translation.\n",
    "\n",
    "- **\\$ p_n \\$** is the precision for n-grams of size \\( n \\):\n",
    "  \\$\n",
    "  p_n = \\frac{\\text{number of matched n-grams}}{\\text{total n-grams in the candidate}}\n",
    "  \\$\n",
    "\n",
    "- **\\$ w_n \\$** is the weight for each n-gram level, typically uniform:\n",
    "  \\$\n",
    "  w_n = \\frac{1}{N}\n",
    "  \\$\n",
    "  For example, if using 4-grams, the weights are \\$ w_1 = w_2 = w_3 = w_4 = 0.25 \\$.\n",
    "\n",
    "- **N** is the maximum length of the n-grams (often 4, so you consider unigrams, bigrams, trigrams, and 4-grams).\n",
    "\n",
    "### Steps for calculation:\n",
    "1. **Calculate precision** for unigrams, bigrams, trigrams, etc.\n",
    "2. **Apply the brevity penalty** (BP) to penalize overly short candidate translations.\n",
    "3. Combine the precision values for different n-grams using the geometric mean (exponential of their sum).\n",
    "4. Multiply the result by the brevity penalty.\n",
    "\n",
    "### Limitations and Bias\n",
    "\n",
    "This metric has multiple known limitations:\n",
    "\n",
    "- BLEU compares overlap in tokens from the predictions and references, instead of comparing meaning. This can lead to discrepancies between BLEU scores and human ratings.\n",
    "\n",
    "- Shorter predicted translations achieve higher scores than longer ones, simply due to how the score is calculated. A brevity penalty is introduced to attempt to counteract this.\n",
    "\n",
    "- BLEU scores are not comparable across different datasets, nor are they comparable across different languages.\n",
    "\n",
    "- BLEU scores can vary greatly depending on which parameters are used to generate the scores, especially when different tokenization and normalization techniques are used. It is therefore not possible to compare BLEU scores generated using different parameters, or when these parameters are unknown. For more discussion around this topic, see the following issue.\n"
   ]
  },
  {
   "cell_type": "markdown",
   "id": "ccfd4d79-10c1-4f58-83ad-3af4acab11ba",
   "metadata": {},
   "source": [
    "Example where each prediction has 1 reference:"
   ]
  },
  {
   "cell_type": "code",
   "execution_count": 6,
   "id": "6a6abcab-b2ca-4b95-a153-ae8f69d8bcd5",
   "metadata": {},
   "outputs": [
    {
     "name": "stdout",
     "output_type": "stream",
     "text": [
      "{'bleu': 1.0, 'precisions': [1.0, 1.0, 1.0, 1.0], 'brevity_penalty': 1.0, 'length_ratio': 1.0, 'translation_length': 7, 'reference_length': 7}\n"
     ]
    }
   ],
   "source": [
    "predictions = [\"hello there general kenobi\",\"foo bar foobar\"]\n",
    "\n",
    "references = [[\"hello there general kenobi\"],\n",
    "              [\"foo bar foobar\"]\n",
    "             ]\n",
    "\n",
    "bleu = evaluate.load(\"bleu\")\n",
    "\n",
    "results = bleu.compute(predictions=predictions, references=references)\n",
    "\n",
    "print(results)"
   ]
  },
  {
   "cell_type": "markdown",
   "id": "789fba2f-e2d9-4ff7-9747-e5f70d9be475",
   "metadata": {},
   "source": [
    "Example where the second prediction has 2 references:"
   ]
  },
  {
   "cell_type": "code",
   "execution_count": 19,
   "id": "6d537485-0bca-422b-8cb0-b23b7e2b7d8d",
   "metadata": {},
   "outputs": [
    {
     "name": "stdout",
     "output_type": "stream",
     "text": [
      "{'bleu': 1.0, 'precisions': [1.0, 1.0, 1.0, 1.0], 'brevity_penalty': 1.0, 'length_ratio': 1.4, 'translation_length': 7, 'reference_length': 5}\n"
     ]
    }
   ],
   "source": [
    "predictions = [\n",
    "    \"hello there general kenobi\",\n",
    "    \"foo bar foobar\"\n",
    "]\n",
    "\n",
    "references = [\n",
    "    [\"hello there general kenobi\", \"hello there!\"],  # Keep references closer to predictions\n",
    "    [\"foo bar foobar\", \"foo bar\"]  # Ensure all n-grams match\n",
    "]\n",
    "\n",
    "bleu = evaluate.load(\"bleu\")\n",
    "\n",
    "results = bleu.compute(predictions=predictions, references=references)\n",
    "\n",
    "print(results)\n"
   ]
  },
  {
   "cell_type": "markdown",
   "id": "28d4349a-b2d5-442e-8a4c-6a2796b7177b",
   "metadata": {},
   "source": [
    "Example with the word tokenizer from NLTK:"
   ]
  },
  {
   "cell_type": "code",
   "execution_count": 21,
   "id": "2a5c5280-afaf-4e42-be04-c92b6df22783",
   "metadata": {},
   "outputs": [
    {
     "name": "stderr",
     "output_type": "stream",
     "text": [
      "[nltk_data] Downloading package punkt_tab to /home/loc/nltk_data...\n",
      "[nltk_data]   Unzipping tokenizers/punkt_tab.zip.\n"
     ]
    },
    {
     "name": "stdout",
     "output_type": "stream",
     "text": [
      "{'bleu': 1.0, 'precisions': [1.0, 1.0, 1.0, 1.0], 'brevity_penalty': 1.0, 'length_ratio': 1.4, 'translation_length': 7, 'reference_length': 5}\n"
     ]
    }
   ],
   "source": [
    "import nltk\n",
    "nltk.download('punkt_tab')\n",
    "from nltk.tokenize import word_tokenize\n",
    "\n",
    "predictions = [\n",
    "    \"hello there general kenobi\",\n",
    "    \"foo bar foobar\"\n",
    "]\n",
    "\n",
    "references = [\n",
    "    [\"hello there general kenobi\", \"hello there!\"],  # Keep references closer to predictions\n",
    "    [\"foo bar foobar\", \"foo bar\"]  # Ensure all n-grams match\n",
    "]\n",
    "\n",
    "bleu = evaluate.load(\"bleu\")\n",
    "\n",
    "results = bleu.compute(predictions=predictions, references=references, tokenizer=word_tokenize)\n",
    "\n",
    "print(results)"
   ]
  },
  {
   "cell_type": "markdown",
   "id": "f3fa1ecd-9bb0-4201-96e0-c9eeb92db88f",
   "metadata": {},
   "source": [
    "The **ROUGE (Recall-Oriented Understudy for Gisting Evaluation)** score is a set of metrics used to evaluate the quality of text, typically in summarization or machine translation, by comparing the overlap between the generated text and reference text. The most commonly used variants are **ROUGE-N**, **ROUGE-L**, and **ROUGE-W**.\n",
    "\n",
    "### 1. **ROUGE-N** (N-gram overlap)\n",
    "Measures the overlap of n-grams between the candidate and reference text.\n",
    "\n",
    "\\[\n",
    "\\text{ROUGE-N} = \\frac{\\sum_{\\text{n-gram} \\in \\text{Reference}} \\min(\\text{Count}_{\\text{candidate}}(\\text{n-gram}), \\text{Count}_{\\text{Reference}}(\\text{n-gram}))}{\\sum_{\\text{n-gram} \\in \\text{Reference}} \\text{Count}_{\\text{Reference}}(\\text{n-gram})}\n",
    "\\]\n",
    "\n",
    "\n",
    "\n",
    "Where:\n",
    "- \\$ \\text{Count}_{\\text{match}}(\\text{n-gram}) \\$ is the number of n-grams that match between the candidate and reference.\n",
    "- \\$ \\text{Count}_{\\text{Reference}}(\\text{n-gram}) \\$ is the total number of n-grams in the reference text.\n",
    "- \\$ N \\$ refers to the size of the n-gram (e.g., unigrams, bigrams, trigrams, etc.).\n",
    "\n",
    "#### Example for ROUGE-1 (unigram overlap):\n",
    "\\$\n",
    "\\text{ROUGE-1} = \\frac{\\text{Number of overlapping unigrams}}{\\text{Total unigrams in reference}}\n",
    "\\$\n",
    "\n",
    "### 2. **ROUGE-L** (Longest Common Subsequence)\n",
    "Measures the longest common subsequence (LCS) between the candidate and reference text.\n",
    "\n",
    "\\$\n",
    "\\text{ROUGE-L} = \\frac{LCS(\\text{candidate}, \\text{reference})}{\\text{length of reference}}\n",
    "\\$\n",
    "\n",
    "Where:\n",
    "- \\$ LCS(\\text{candidate}, \\text{reference}) \\$ is the length of the longest common subsequence between the candidate and reference text.\n",
    "\n",
    "### 3. **ROUGE-W** (Weighted Longest Common Subsequence)\n",
    "This is similar to ROUGE-L but gives more weight to consecutive matches in the longest common subsequence. It penalizes scattered matches.\n",
    "\n",
    "\\$\n",
    "\\text{ROUGE-W} = \\frac{LCS_{\\text{weighted}}(\\text{candidate}, \\text{reference})}{\\text{length of reference}}\n",
    "\\$\n",
    "\n",
    "Where \\$ LCS_{\\text{weighted}} \\$ assigns higher weights to consecutive matching words in the sequence.\n",
    "\n",
    "### 4. **ROUGE-S** (Skip-bigram)\n",
    "Measures the overlap of skip-bigrams, which are pairs of words that occur in both texts in the same order, allowing for gaps in between.\n",
    "\n",
    "\\$\n",
    "\\text{ROUGE-S} = \\frac{\\text{Number of matching skip-bigrams}}{\\text{Total skip-bigrams in reference}}\n",
    "\\$\n",
    "\n",
    "### Key Variants:\n",
    "- **ROUGE-N**: Precision, recall, and F1-score can be computed. The formula above calculates **recall**, while **precision** would use the total n-grams in the candidate as the denominator.\n",
    "  \n",
    "- **ROUGE-L**: Measures recall based on the LCS, but precision and F1-score variants can also be calculated using the candidate’s length.\n",
    "\n",
    "### F1-score for ROUGE:\n",
    "You can combine **precision** and **recall** into the **F1-score** as:\n",
    "\n",
    "\\$\n",
    "\\text{F1} = \\frac{2 \\times \\text{Precision} \\times \\text{Recall}}{\\text{Precision} + \\text{Recall}}\n",
    "\\$\n",
    "\n",
    "Would you like help implementing any of these ROUGE metrics in code?"
   ]
  },
  {
   "cell_type": "code",
   "execution_count": null,
   "id": "d7ad595a-e103-4c76-8c0d-90a1b3aba5b6",
   "metadata": {},
   "outputs": [],
   "source": []
  },
  {
   "cell_type": "code",
   "execution_count": null,
   "id": "8fc05779-d011-4fcf-871d-7d4335da8175",
   "metadata": {},
   "outputs": [],
   "source": []
  },
  {
   "cell_type": "code",
   "execution_count": null,
   "id": "da1aec33-3952-45d8-b3a5-364f1f4ceff2",
   "metadata": {},
   "outputs": [],
   "source": []
  },
  {
   "cell_type": "code",
   "execution_count": null,
   "id": "2b96e2f9-dc40-403f-ab37-cc0d4b3dab70",
   "metadata": {},
   "outputs": [],
   "source": []
  },
  {
   "cell_type": "markdown",
   "id": "694821a9-4ea3-4dd6-aaf2-eddf0050fcd7",
   "metadata": {},
   "source": [
    "**METEOR**, an automatic metric for machine translation evaluation that is based on a generalized concept of unigram matching between the machine-produced translation and human-produced reference translations. Unigrams can be matched based on their surface forms, stemmed forms, and meanings; furthermore, METEOR can be easily extended to include more advanced matching strategies. Once all generalized unigram matches between the two strings have been found, METEOR computes a score for this matching using a combination of unigram-precision, unigram-recall, and a measure of fragmentation that is designed to directly capture how well-ordered the matched words in the machine translation are in relation to the reference.\n",
    "\n",
    "METEOR gets an R correlation value of 0.347 with human evaluation on the Arabic data and 0.331 on the Chinese data. This is shown to be an improvement on using simply unigram-precision, unigram-recall and their harmonic F1 combination.\n",
    "\n",
    "If this is a text-based metric, make sure to wrap you input in double quotes. Alternatively you can use a JSON-formatted list as input."
   ]
  },
  {
   "cell_type": "code",
   "execution_count": null,
   "id": "78b18778-5665-4d9c-aaa7-2785ecec1be4",
   "metadata": {},
   "outputs": [],
   "source": []
  }
 ],
 "metadata": {
  "kernelspec": {
   "display_name": "Python 3 (ipykernel)",
   "language": "python",
   "name": "python3"
  },
  "language_info": {
   "codemirror_mode": {
    "name": "ipython",
    "version": 3
   },
   "file_extension": ".py",
   "mimetype": "text/x-python",
   "name": "python",
   "nbconvert_exporter": "python",
   "pygments_lexer": "ipython3",
   "version": "3.8.19"
  }
 },
 "nbformat": 4,
 "nbformat_minor": 5
}
