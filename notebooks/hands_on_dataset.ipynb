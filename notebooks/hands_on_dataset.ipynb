{
 "cells": [
  {
   "cell_type": "markdown",
   "id": "5f49788e-4669-4699-9e76-629fc7b7148b",
   "metadata": {},
   "source": [
    "# XMAiNframe: A Large Language Model for Mainframe Modernization\n",
    "\n",
    "## Dataset Summary\n",
    "\n",
    "**MainframeBench** is a comprehensive benchmark designed to assess mainframe-related knowledge, consisting of three sub-tasks:\n",
    "- Multiple-Choice Questions\n",
    "- Question Answering\n",
    "- COBOL Code Summarization\n",
    "\n",
    "---\n",
    "\n",
    "## Dataset Structure\n",
    "\n",
    "### Data Instances for Question Answering\n",
    "\n",
    "```json\n",
    "{\n",
    "    \"id\": 0,\n",
    "    \"prompt\": \"As a supportive AI assistant, you've been presented with a query related to a Cobol-related topic. Please furnish a reply to the question.\",\n",
    "    \"question\": \"What is the future of COBOL in mainframe computing?\",\n",
    "    \"answer\": \"As businesses increasingly migrate away from mainframes and update their legacy applications, the future of COBOL in mainframe computing is uncertain. However, it will likely continue to be used for maintaining existing systems and for specific business needs.\"\n",
    "}\n",
    "```\n",
    "\n",
    "---\n",
    "\n",
    "### Data Fields\n",
    "\n",
    "#### Question-Answering Task\n",
    "\n",
    "- **id** (string): The unique identifier.\n",
    "- **prompt** (string): Instruction to the language model.\n",
    "- **question** (string): The mainframe-related question.\n",
    "- **answer** (string): The corresponding answer.\n",
    "\n",
    "#### Multiple-Choice Question Task\n",
    "\n",
    "- **id** (string): The unique identifier.\n",
    "- **prompt** (string): Instruction to the language model.\n",
    "- **question** (string): The mainframe-related question.\n",
    "- **A, B, C, D** (string): Four possible answers.\n",
    "- **answer** (string): The correct answer choice (A, B, C, or D).\n",
    "\n",
    "#### COBOL Code Summarization Task\n",
    "\n",
    "- **id** (string): The unique identifier.\n",
    "- **prompt** (string): Instruction to the language model.\n",
    "- **source** (string): The COBOL code snippet.\n",
    "- **summary** (string): The summary of the provided code.\n",
    "\n",
    "---\n",
    "\n",
    "## Data Splits\n",
    "\n",
    "The benchmark is divided into three subsets, each corresponding to one of the sub-tasks:\n",
    "- **Question-Answering**\n",
    "- **Multiple-Choice Questions**\n",
    "- **COBOL Code Summarization**\n",
    "\n",
    "---\n",
    "\n",
    "## Dataset Statistics\n",
    "\n",
    "| **Type**                   | **Number of Samples** |\n",
    "|----------------------------|-----------------------|\n",
    "| Question Answering          | 2,598                 |\n",
    "| Multiple-Choice Questions   | 1,931                 |\n",
    "| COBOL Code Summarization    | 2,523                 |\n",
    "\n",
    "[Fsoft-AIC's Collections/XMAiNframe](https://huggingface.co/datasets/Fsoft-AIC/MainframeBench)"
   ]
  },
  {
   "cell_type": "code",
   "execution_count": 11,
   "id": "fde35d4d-95c1-4b3d-a310-10ad597ca70f",
   "metadata": {},
   "outputs": [],
   "source": [
    "import random\n",
    "\n",
    "from datasets import load_dataset\n",
    "\n",
    "# Load each sub-set in MainframeBench\n",
    "\n",
    "QA_set = load_dataset(\"Fsoft-AIC/MainframeBench\", 'question_answering')\n",
    "\n",
    "MC_set = load_dataset(\"Fsoft-AIC/MainframeBench\", 'multiple_choice_question')\n",
    "\n",
    "Sum_set = load_dataset(\"Fsoft-AIC/MainframeBench\", 'COBOL_code_summarization')"
   ]
  },
  {
   "cell_type": "markdown",
   "id": "ab41f381-0d97-4236-aafe-f39c7a5f4185",
   "metadata": {},
   "source": [
    "### Question-Answering Task"
   ]
  },
  {
   "cell_type": "code",
   "execution_count": 12,
   "id": "50bd9ca8-881e-4caa-b392-e6147d2c460d",
   "metadata": {},
   "outputs": [
    {
     "data": {
      "text/plain": [
       "DatasetDict({\n",
       "    train: Dataset({\n",
       "        features: ['Unnamed: 0', 'prompt', 'question', 'answer'],\n",
       "        num_rows: 2598\n",
       "    })\n",
       "})"
      ]
     },
     "execution_count": 12,
     "metadata": {},
     "output_type": "execute_result"
    }
   ],
   "source": [
    "# Show dataset\n",
    "QA_set"
   ]
  },
  {
   "cell_type": "code",
   "execution_count": 13,
   "id": "95df9344-bb7e-4513-9ba4-ee0e12cea7fb",
   "metadata": {},
   "outputs": [],
   "source": [
    "# Rename column 'Unnamed: 0' to id"
   ]
  },
  {
   "cell_type": "code",
   "execution_count": 14,
   "id": "4048b3f5-c14a-460a-89f9-feabb50d4a43",
   "metadata": {},
   "outputs": [
    {
     "data": {
      "text/plain": [
       "DatasetDict({\n",
       "    train: Dataset({\n",
       "        features: ['id', 'prompt', 'question', 'answer'],\n",
       "        num_rows: 2598\n",
       "    })\n",
       "})"
      ]
     },
     "execution_count": 14,
     "metadata": {},
     "output_type": "execute_result"
    }
   ],
   "source": [
    "QA_set = QA_set.rename_column(original_column_name='Unnamed: 0', new_column_name='id')\n",
    "QA_set"
   ]
  },
  {
   "cell_type": "code",
   "execution_count": 21,
   "id": "70b1c879-5a65-486e-a79f-df52de4ef86a",
   "metadata": {},
   "outputs": [
    {
     "name": "stdout",
     "output_type": "stream",
     "text": [
      "{'id': 1705, 'prompt': \"As a supportive AI assistant, you've been given a question regarding a mainframe-related topic. Please provide a response to the inquiry.\", 'question': 'What is the role of a data center in the context of mainframes?', 'answer': 'A data center is a facility that houses, manages, and operates mainframes and other computer systems. It provides an environment where mainframes can be maintained, updated, and scaled to meet the demands of modern businesses.'}\n"
     ]
    }
   ],
   "source": [
    "# Random select a sample\n",
    "total_qa = QA_set['train'].num_rows\n",
    "\n",
    "random_idx = random.choice(range(total_qa))\n",
    "\n",
    "print(QA_set['train'][random_idx])"
   ]
  },
  {
   "cell_type": "markdown",
   "id": "90965290-59fc-4e93-9d10-91e9bd71286f",
   "metadata": {},
   "source": [
    "### Multiple-Choice Question Task"
   ]
  },
  {
   "cell_type": "code",
   "execution_count": 22,
   "id": "b90b80a3-42d8-478b-8a3c-ca12c412d283",
   "metadata": {},
   "outputs": [
    {
     "data": {
      "text/plain": [
       "DatasetDict({\n",
       "    train: Dataset({\n",
       "        features: ['Unnamed: 0', 'prompt', 'question', 'A', 'B', 'C', 'D', 'answer'],\n",
       "        num_rows: 1931\n",
       "    })\n",
       "})"
      ]
     },
     "execution_count": 22,
     "metadata": {},
     "output_type": "execute_result"
    }
   ],
   "source": [
    "# Show dataset\n",
    "MC_set"
   ]
  },
  {
   "cell_type": "code",
   "execution_count": 23,
   "id": "16c152a9-c9b0-4769-97af-edf9a0e6437c",
   "metadata": {},
   "outputs": [],
   "source": [
    "# Rename column 'Unnamed: 0' to id"
   ]
  },
  {
   "cell_type": "code",
   "execution_count": 24,
   "id": "a19a592d-a6ac-4468-a622-a7dc237c2a38",
   "metadata": {},
   "outputs": [
    {
     "data": {
      "text/plain": [
       "DatasetDict({\n",
       "    train: Dataset({\n",
       "        features: ['id', 'prompt', 'question', 'A', 'B', 'C', 'D', 'answer'],\n",
       "        num_rows: 1931\n",
       "    })\n",
       "})"
      ]
     },
     "execution_count": 24,
     "metadata": {},
     "output_type": "execute_result"
    }
   ],
   "source": [
    "MC_set = MC_set.rename_column(original_column_name='Unnamed: 0', new_column_name='id')\n",
    "MC_set"
   ]
  },
  {
   "cell_type": "code",
   "execution_count": 26,
   "id": "8233b1d2-cae5-400b-9f07-c84bdd915cf6",
   "metadata": {},
   "outputs": [
    {
     "name": "stdout",
     "output_type": "stream",
     "text": [
      "{'id': 64, 'prompt': \"As a supportive AI assistant, you've received multiple-choice questions related to a cobol-related topic. Each question is presented with four options: A, B, C, or D. Kindly indicate the correct answer for each question by selecting the corresponding option (A, B, C, or D).\", 'question': 'Which of the following is a valid COBOL data declaration?', 'A': '01 VARIABLE PIC X(10)', 'B': '01 VARIABLE PIC X(10) VALUE 10', 'C': \"01 VARIABLE PIC X(10) VALUE 'Hello'\", 'D': '01 VARIABLE PIC X(10) LENGTH 10', 'answer': 'A'}\n"
     ]
    }
   ],
   "source": [
    "# Random select a sample\n",
    "total_mc = MC_set['train'].num_rows\n",
    "\n",
    "random_idx = random.choice(range(total_mc))\n",
    "\n",
    "print(MC_set['train'][random_idx])"
   ]
  },
  {
   "cell_type": "markdown",
   "id": "f44c9b32-133c-4485-89ff-4d62883ab9dc",
   "metadata": {},
   "source": [
    "### COBOL Code Summarization Task"
   ]
  },
  {
   "cell_type": "code",
   "execution_count": 6,
   "id": "04dfec1a-3810-42eb-a391-a0fcba4c364e",
   "metadata": {},
   "outputs": [
    {
     "data": {
      "text/plain": [
       "DatasetDict({\n",
       "    train: Dataset({\n",
       "        features: ['Unnamed: 0', 'prompt', 'source', 'summary'],\n",
       "        num_rows: 2523\n",
       "    })\n",
       "})"
      ]
     },
     "execution_count": 6,
     "metadata": {},
     "output_type": "execute_result"
    }
   ],
   "source": [
    "# Show dataset\n",
    "Sum_set"
   ]
  },
  {
   "cell_type": "code",
   "execution_count": null,
   "id": "9249c141-629b-4316-8767-c879a662a543",
   "metadata": {},
   "outputs": [],
   "source": [
    "# Rename column 'Unnamed: 0' to id"
   ]
  },
  {
   "cell_type": "code",
   "execution_count": 10,
   "id": "dc779f24-3d30-4941-b1f9-65326108f74c",
   "metadata": {},
   "outputs": [
    {
     "data": {
      "text/plain": [
       "DatasetDict({\n",
       "    train: Dataset({\n",
       "        features: ['id', 'prompt', 'source', 'summary'],\n",
       "        num_rows: 2523\n",
       "    })\n",
       "})"
      ]
     },
     "execution_count": 10,
     "metadata": {},
     "output_type": "execute_result"
    }
   ],
   "source": [
    "Sum_set = Sum_set.rename_column(original_column_name='Unnamed: 0', new_column_name='id')\n",
    "Sum_set"
   ]
  },
  {
   "cell_type": "code",
   "execution_count": 31,
   "id": "54aaec31-8ef6-4eaa-97bf-4ac4f15c6825",
   "metadata": {},
   "outputs": [
    {
     "name": "stdout",
     "output_type": "stream",
     "text": [
      "{'Unnamed: 0': 727, 'prompt': \"In your role as a helpful AI assistant, you've received a Cobol code snippet. Please present a summary of the code that is clear, brief, detailed, and logically structured.\", 'source': \"PERFORM 1000-PROCESS-DATA.                                     \\n               DISPLAY '**JDHSB43Y DATA PROCESSING**' UPON SYSOUT.         \\n               IF       END-FLG   NOT  =  1                                 \\n                    COMPUTE  WK-CNT =  INPUT-CNT1 - 1                   \\n               ELSE                                                         \\n                    MOVE     INPUT-CNT1 TO  WK-CNT                      \\n               END-IF.                                                      \\n               DISPLAY ' INPUT =' WK-CNT UPON SYSOUT.                       \\n       1000-PROCESS-DATA-X.\", 'summary': \"The given COBOL code performs the following functionalities:\\n\\n1. It performs a user-defined PERFORM routine 1000-PROCESS-DATA.\\n2. It displays '**JDHSB43Y DATA PROCESSING**' on the system output.\\n3. It calculates the value of WK-CNT based on the END-FLG and INPUT-CNT1 values.\\n4. It displays the value of WK-CNT on the system output.\\n\\nIn summary, this COBOL code segment is processing data and displaying the count of processed data for debugging or logging purposes.\"}\n"
     ]
    }
   ],
   "source": [
    "# Random select a sample\n",
    "total_sum = Sum_set['train'].num_rows\n",
    "\n",
    "random_idx = random.choice(range(total_sum))\n",
    "\n",
    "print(Sum_set['train'][random_idx])"
   ]
  },
  {
   "cell_type": "markdown",
   "id": "a9f225c7-6a93-4162-8faf-f65abdd21e93",
   "metadata": {},
   "source": [
    "### Write function translate English to Japan"
   ]
  },
  {
   "cell_type": "markdown",
   "id": "d5155e3d-efe1-44f2-8c1a-775f31e64dc4",
   "metadata": {},
   "source": [
    "### Custom current dataset"
   ]
  },
  {
   "cell_type": "code",
   "execution_count": null,
   "id": "767c1b3b-6b03-419c-b4db-5c6bc053c91a",
   "metadata": {},
   "outputs": [],
   "source": []
  }
 ],
 "metadata": {
  "kernelspec": {
   "display_name": "Python 3 (ipykernel)",
   "language": "python",
   "name": "python3"
  },
  "language_info": {
   "codemirror_mode": {
    "name": "ipython",
    "version": 3
   },
   "file_extension": ".py",
   "mimetype": "text/x-python",
   "name": "python",
   "nbconvert_exporter": "python",
   "pygments_lexer": "ipython3",
   "version": "3.8.19"
  }
 },
 "nbformat": 4,
 "nbformat_minor": 5
}
