{
 "cells": [
  {
   "cell_type": "markdown",
   "id": "5f49788e-4669-4699-9e76-629fc7b7148b",
   "metadata": {},
   "source": [
    "# XMAiNframe: A Large Language Model for Mainframe Modernization\n",
    "\n",
    "## Dataset Summary\n",
    "\n",
    "**MainframeBench** is a comprehensive benchmark designed to assess mainframe-related knowledge, consisting of three sub-tasks:\n",
    "- Multiple-Choice Questions\n",
    "- Question Answering\n",
    "- COBOL Code Summarization\n",
    "\n",
    "---\n",
    "\n",
    "## Dataset Structure\n",
    "\n",
    "### Data Instances for Question Answering\n",
    "\n",
    "```json\n",
    "{\n",
    "    \"id\": 0,\n",
    "    \"prompt\": \"As a supportive AI assistant, you've been presented with a query related to a Cobol-related topic. Please furnish a reply to the question.\",\n",
    "    \"question\": \"What is the future of COBOL in mainframe computing?\",\n",
    "    \"answer\": \"As businesses increasingly migrate away from mainframes and update their legacy applications, the future of COBOL in mainframe computing is uncertain. However, it will likely continue to be used for maintaining existing systems and for specific business needs.\"\n",
    "}\n",
    "```\n",
    "\n",
    "---\n",
    "\n",
    "### Data Fields\n",
    "\n",
    "#### Question-Answering Task\n",
    "\n",
    "- **id** (string): The unique identifier.\n",
    "- **prompt** (string): Instruction to the language model.\n",
    "- **question** (string): The mainframe-related question.\n",
    "- **answer** (string): The corresponding answer.\n",
    "\n",
    "#### Multiple-Choice Question Task\n",
    "\n",
    "- **id** (string): The unique identifier.\n",
    "- **prompt** (string): Instruction to the language model.\n",
    "- **question** (string): The mainframe-related question.\n",
    "- **A, B, C, D** (string): Four possible answers.\n",
    "- **answer** (string): The correct answer choice (A, B, C, or D).\n",
    "\n",
    "#### COBOL Code Summarization Task\n",
    "\n",
    "- **id** (string): The unique identifier.\n",
    "- **prompt** (string): Instruction to the language model.\n",
    "- **source** (string): The COBOL code snippet.\n",
    "- **summary** (string): The summary of the provided code.\n",
    "\n",
    "---\n",
    "\n",
    "## Data Splits\n",
    "\n",
    "The benchmark is divided into three subsets, each corresponding to one of the sub-tasks:\n",
    "- **Question-Answering**\n",
    "- **Multiple-Choice Questions**\n",
    "- **COBOL Code Summarization**\n",
    "\n",
    "---\n",
    "\n",
    "## Dataset Statistics\n",
    "\n",
    "| **Type**                   | **Number of Samples** |\n",
    "|----------------------------|-----------------------|\n",
    "| Question Answering          | 2,598                 |\n",
    "| Multiple-Choice Questions   | 1,931                 |\n",
    "| COBOL Code Summarization    | 2,523                 |\n",
    "\n",
    "[Fsoft-AIC's Collections/XMAiNframe](https://huggingface.co/datasets/Fsoft-AIC/MainframeBench)"
   ]
  },
  {
   "cell_type": "code",
   "execution_count": 11,
   "id": "fde35d4d-95c1-4b3d-a310-10ad597ca70f",
   "metadata": {},
   "outputs": [],
   "source": [
    "import random\n",
    "from datasets import load_dataset\n",
    "\n",
    "# Load each sub-set in MainframeBench\n",
    "QA_set = load_dataset(\"Fsoft-AIC/MainframeBench\", 'question_answering')\n",
    "MC_set = load_dataset(\"Fsoft-AIC/MainframeBench\", 'multiple_choice_question')\n",
    "Sum_set = load_dataset(\"Fsoft-AIC/MainframeBench\", 'COBOL_code_summarization')"
   ]
  },
  {
   "cell_type": "markdown",
   "id": "ab41f381-0d97-4236-aafe-f39c7a5f4185",
   "metadata": {},
   "source": [
    "### Question-Answering Task"
   ]
  },
  {
   "cell_type": "code",
   "execution_count": 12,
   "id": "50bd9ca8-881e-4caa-b392-e6147d2c460d",
   "metadata": {},
   "outputs": [
    {
     "data": {
      "text/plain": [
       "DatasetDict({\n",
       "    train: Dataset({\n",
       "        features: ['Unnamed: 0', 'prompt', 'question', 'answer'],\n",
       "        num_rows: 2598\n",
       "    })\n",
       "})"
      ]
     },
     "execution_count": 12,
     "metadata": {},
     "output_type": "execute_result"
    }
   ],
   "source": [
    "# Show dataset\n",
    "QA_set"
   ]
  },
  {
   "cell_type": "code",
   "execution_count": 13,
   "id": "95df9344-bb7e-4513-9ba4-ee0e12cea7fb",
   "metadata": {},
   "outputs": [],
   "source": [
    "# Rename column 'Unnamed: 0' to id"
   ]
  },
  {
   "cell_type": "code",
   "execution_count": 14,
   "id": "4048b3f5-c14a-460a-89f9-feabb50d4a43",
   "metadata": {},
   "outputs": [
    {
     "data": {
      "text/plain": [
       "DatasetDict({\n",
       "    train: Dataset({\n",
       "        features: ['id', 'prompt', 'question', 'answer'],\n",
       "        num_rows: 2598\n",
       "    })\n",
       "})"
      ]
     },
     "execution_count": 14,
     "metadata": {},
     "output_type": "execute_result"
    }
   ],
   "source": [
    "QA_set = QA_set.rename_column(original_column_name='Unnamed: 0', new_column_name='id')\n",
    "QA_set"
   ]
  },
  {
   "cell_type": "code",
   "execution_count": 21,
   "id": "70b1c879-5a65-486e-a79f-df52de4ef86a",
   "metadata": {},
   "outputs": [
    {
     "name": "stdout",
     "output_type": "stream",
     "text": [
      "{'id': 1705, 'prompt': \"As a supportive AI assistant, you've been given a question regarding a mainframe-related topic. Please provide a response to the inquiry.\", 'question': 'What is the role of a data center in the context of mainframes?', 'answer': 'A data center is a facility that houses, manages, and operates mainframes and other computer systems. It provides an environment where mainframes can be maintained, updated, and scaled to meet the demands of modern businesses.'}\n"
     ]
    }
   ],
   "source": [
    "# Random select a sample\n",
    "total_qa = QA_set['train'].num_rows\n",
    "\n",
    "random_idx = random.choice(range(total_qa))\n",
    "\n",
    "print(QA_set['train'][random_idx])"
   ]
  },
  {
   "cell_type": "markdown",
   "id": "90965290-59fc-4e93-9d10-91e9bd71286f",
   "metadata": {},
   "source": [
    "### Multiple-Choice Question Task"
   ]
  },
  {
   "cell_type": "code",
   "execution_count": 22,
   "id": "b90b80a3-42d8-478b-8a3c-ca12c412d283",
   "metadata": {},
   "outputs": [
    {
     "data": {
      "text/plain": [
       "DatasetDict({\n",
       "    train: Dataset({\n",
       "        features: ['Unnamed: 0', 'prompt', 'question', 'A', 'B', 'C', 'D', 'answer'],\n",
       "        num_rows: 1931\n",
       "    })\n",
       "})"
      ]
     },
     "execution_count": 22,
     "metadata": {},
     "output_type": "execute_result"
    }
   ],
   "source": [
    "# Show dataset\n",
    "MC_set"
   ]
  },
  {
   "cell_type": "code",
   "execution_count": 23,
   "id": "16c152a9-c9b0-4769-97af-edf9a0e6437c",
   "metadata": {},
   "outputs": [],
   "source": [
    "# Rename column 'Unnamed: 0' to id"
   ]
  },
  {
   "cell_type": "code",
   "execution_count": 24,
   "id": "a19a592d-a6ac-4468-a622-a7dc237c2a38",
   "metadata": {},
   "outputs": [
    {
     "data": {
      "text/plain": [
       "DatasetDict({\n",
       "    train: Dataset({\n",
       "        features: ['id', 'prompt', 'question', 'A', 'B', 'C', 'D', 'answer'],\n",
       "        num_rows: 1931\n",
       "    })\n",
       "})"
      ]
     },
     "execution_count": 24,
     "metadata": {},
     "output_type": "execute_result"
    }
   ],
   "source": [
    "MC_set = MC_set.rename_column(original_column_name='Unnamed: 0', new_column_name='id')\n",
    "MC_set"
   ]
  },
  {
   "cell_type": "code",
   "execution_count": 26,
   "id": "8233b1d2-cae5-400b-9f07-c84bdd915cf6",
   "metadata": {},
   "outputs": [
    {
     "name": "stdout",
     "output_type": "stream",
     "text": [
      "{'id': 64, 'prompt': \"As a supportive AI assistant, you've received multiple-choice questions related to a cobol-related topic. Each question is presented with four options: A, B, C, or D. Kindly indicate the correct answer for each question by selecting the corresponding option (A, B, C, or D).\", 'question': 'Which of the following is a valid COBOL data declaration?', 'A': '01 VARIABLE PIC X(10)', 'B': '01 VARIABLE PIC X(10) VALUE 10', 'C': \"01 VARIABLE PIC X(10) VALUE 'Hello'\", 'D': '01 VARIABLE PIC X(10) LENGTH 10', 'answer': 'A'}\n"
     ]
    }
   ],
   "source": [
    "# Random select a sample\n",
    "total_mc = MC_set['train'].num_rows\n",
    "\n",
    "random_idx = random.choice(range(total_mc))\n",
    "\n",
    "print(MC_set['train'][random_idx])"
   ]
  },
  {
   "cell_type": "markdown",
   "id": "f44c9b32-133c-4485-89ff-4d62883ab9dc",
   "metadata": {},
   "source": [
    "### COBOL Code Summarization Task"
   ]
  },
  {
   "cell_type": "code",
   "execution_count": 6,
   "id": "04dfec1a-3810-42eb-a391-a0fcba4c364e",
   "metadata": {},
   "outputs": [
    {
     "data": {
      "text/plain": [
       "DatasetDict({\n",
       "    train: Dataset({\n",
       "        features: ['Unnamed: 0', 'prompt', 'source', 'summary'],\n",
       "        num_rows: 2523\n",
       "    })\n",
       "})"
      ]
     },
     "execution_count": 6,
     "metadata": {},
     "output_type": "execute_result"
    }
   ],
   "source": [
    "# Show dataset\n",
    "Sum_set"
   ]
  },
  {
   "cell_type": "code",
   "execution_count": null,
   "id": "9249c141-629b-4316-8767-c879a662a543",
   "metadata": {},
   "outputs": [],
   "source": [
    "# Rename column 'Unnamed: 0' to id"
   ]
  },
  {
   "cell_type": "code",
   "execution_count": 10,
   "id": "dc779f24-3d30-4941-b1f9-65326108f74c",
   "metadata": {},
   "outputs": [
    {
     "data": {
      "text/plain": [
       "DatasetDict({\n",
       "    train: Dataset({\n",
       "        features: ['id', 'prompt', 'source', 'summary'],\n",
       "        num_rows: 2523\n",
       "    })\n",
       "})"
      ]
     },
     "execution_count": 10,
     "metadata": {},
     "output_type": "execute_result"
    }
   ],
   "source": [
    "Sum_set = Sum_set.rename_column(original_column_name='Unnamed: 0', new_column_name='id')\n",
    "Sum_set"
   ]
  },
  {
   "cell_type": "code",
   "execution_count": 31,
   "id": "54aaec31-8ef6-4eaa-97bf-4ac4f15c6825",
   "metadata": {},
   "outputs": [
    {
     "name": "stdout",
     "output_type": "stream",
     "text": [
      "{'Unnamed: 0': 727, 'prompt': \"In your role as a helpful AI assistant, you've received a Cobol code snippet. Please present a summary of the code that is clear, brief, detailed, and logically structured.\", 'source': \"PERFORM 1000-PROCESS-DATA.                                     \\n               DISPLAY '**JDHSB43Y DATA PROCESSING**' UPON SYSOUT.         \\n               IF       END-FLG   NOT  =  1                                 \\n                    COMPUTE  WK-CNT =  INPUT-CNT1 - 1                   \\n               ELSE                                                         \\n                    MOVE     INPUT-CNT1 TO  WK-CNT                      \\n               END-IF.                                                      \\n               DISPLAY ' INPUT =' WK-CNT UPON SYSOUT.                       \\n       1000-PROCESS-DATA-X.\", 'summary': \"The given COBOL code performs the following functionalities:\\n\\n1. It performs a user-defined PERFORM routine 1000-PROCESS-DATA.\\n2. It displays '**JDHSB43Y DATA PROCESSING**' on the system output.\\n3. It calculates the value of WK-CNT based on the END-FLG and INPUT-CNT1 values.\\n4. It displays the value of WK-CNT on the system output.\\n\\nIn summary, this COBOL code segment is processing data and displaying the count of processed data for debugging or logging purposes.\"}\n"
     ]
    }
   ],
   "source": [
    "# Random select a sample\n",
    "total_sum = Sum_set['train'].num_rows\n",
    "\n",
    "random_idx = random.choice(range(total_sum))\n",
    "\n",
    "print(Sum_set['train'][random_idx])"
   ]
  },
  {
   "cell_type": "markdown",
   "id": "a9f225c7-6a93-4162-8faf-f65abdd21e93",
   "metadata": {},
   "source": [
    "### Write function translate English to Japan"
   ]
  },
  {
   "cell_type": "code",
   "execution_count": 1,
   "id": "b9425b69-0b59-424a-aa8f-f05a0dde3ba7",
   "metadata": {},
   "outputs": [
    {
     "name": "stderr",
     "output_type": "stream",
     "text": [
      "/home/loc/miniconda3/envs/py38/lib/python3.8/site-packages/transformers/tokenization_utils_base.py:1601: FutureWarning: `clean_up_tokenization_spaces` was not set. It will be set to `True` by default. This behavior will be depracted in transformers v4.45, and will be then set to `False` by default. For more details check this issue: https://github.com/huggingface/transformers/issues/31884\n",
      "  warnings.warn(\n",
      "/home/loc/miniconda3/envs/py38/lib/python3.8/site-packages/transformers/generation/utils.py:1885: UserWarning: You are calling .generate() with the `input_ids` being on a device type different than your model's device. `input_ids` is on cpu, whereas the model is on cuda. You may experience unexpected behaviors or slower generation. Please make sure that you have put `input_ids` to the correct device by calling for example input_ids = input_ids.to('cuda') before running `.generate()`.\n",
      "  warnings.warn(\n"
     ]
    },
    {
     "data": {
      "text/plain": [
       "'太陽は山の後ろに座り、夜の輝きが柔らかく輝くように、景色の上に温かい輝きを投げ込んだ。'"
      ]
     },
     "execution_count": 1,
     "metadata": {},
     "output_type": "execute_result"
    }
   ],
   "source": [
    "from transformers import M2M100ForConditionalGeneration, M2M100Tokenizer\n",
    "\n",
    "src_lang = \"en\"\n",
    "tgt_lang = \"ja\"\n",
    "sentence = \"The sun set behind the mountains, casting a warm glow over the landscape as the evening breeze blew gently\"\n",
    "\n",
    "model = M2M100ForConditionalGeneration.from_pretrained(\"facebook/m2m100_418M\",device_map=\"auto\")\n",
    "tokenizer = M2M100Tokenizer.from_pretrained(\"facebook/m2m100_418M\")\n",
    "\n",
    "# translate English to Japan\n",
    "tokenizer.src_lang = src_lang\n",
    "encoded_sentence = tokenizer(sentence, return_tensors=\"pt\")\n",
    "generated_tokens = model.generate(**encoded_sentence, forced_bos_token_id=tokenizer.get_lang_id(tgt_lang))\n",
    "tokenizer.batch_decode(generated_tokens, skip_special_tokens=True)[0]"
   ]
  },
  {
   "cell_type": "code",
   "execution_count": 2,
   "id": "ddb7919e-d939-4e74-ad33-48f474e2bf4b",
   "metadata": {},
   "outputs": [
    {
     "data": {
      "text/plain": [
       "'The sun sat behind the mountain, and throwed a warm glow on the view as the brightness of the night glowed softly.'"
      ]
     },
     "execution_count": 2,
     "metadata": {},
     "output_type": "execute_result"
    }
   ],
   "source": [
    "src_lang = \"ja\"\n",
    "tgt_lang = \"en\"\n",
    "sentence = \"太陽は山の後ろに座り、夜の輝きが柔らかく輝くように、景色の上に温かい輝きを投げ込んだ。\"\n",
    "\n",
    "# translate Japan to English\n",
    "tokenizer.src_lang = src_lang\n",
    "encoded_sentence = tokenizer(sentence, return_tensors=\"pt\")\n",
    "generated_tokens = model.generate(**encoded_sentence, forced_bos_token_id=tokenizer.get_lang_id(tgt_lang))\n",
    "tokenizer.batch_decode(generated_tokens, skip_special_tokens=True)[0]"
   ]
  },
  {
   "cell_type": "code",
   "execution_count": 3,
   "id": "35048704-fb90-4115-8506-7612528e9596",
   "metadata": {},
   "outputs": [],
   "source": [
    "def translate_en_jp(sentence):\n",
    "    src_lang = \"en\"\n",
    "    tgt_lang = \"ja\"\n",
    "    tokenizer.src_lang = src_lang\n",
    "    encoded_sentence = tokenizer(sentence, return_tensors=\"pt\")\n",
    "    generated_tokens = model.generate(**encoded_sentence, forced_bos_token_id=tokenizer.get_lang_id(tgt_lang))\n",
    "    return tokenizer.batch_decode(generated_tokens, skip_special_tokens=True)[0]"
   ]
  },
  {
   "cell_type": "code",
   "execution_count": 4,
   "id": "6d4e8778-7db2-40c8-bec2-c0b7fa821ab5",
   "metadata": {},
   "outputs": [
    {
     "name": "stdout",
     "output_type": "stream",
     "text": [
      "CPU times: user 1.08 s, sys: 63.9 ms, total: 1.15 s\n",
      "Wall time: 889 ms\n"
     ]
    },
    {
     "data": {
      "text/plain": [
       "'猫は窓ガラスに座り、鳥が飛んでいると見ながら、柔らかい雨がガラスに柔らかくなった。'"
      ]
     },
     "execution_count": 4,
     "metadata": {},
     "output_type": "execute_result"
    }
   ],
   "source": [
    "%%time\n",
    "translate_en_jp(\"The cat sat on the windowsill, watching birds fly by while the gentle rain tapped softly on the glass.\")"
   ]
  },
  {
   "cell_type": "markdown",
   "id": "d5155e3d-efe1-44f2-8c1a-775f31e64dc4",
   "metadata": {},
   "source": [
    "### Custom current dataset"
   ]
  },
  {
   "cell_type": "code",
   "execution_count": 5,
   "id": "4ec594dc-fae2-45c1-8aa1-a0f61c2b643d",
   "metadata": {},
   "outputs": [],
   "source": [
    "from datasets import load_dataset\n",
    "\n",
    "QA_set = load_dataset(\"Fsoft-AIC/MainframeBench\", 'question_answering')\n",
    "QA_set = QA_set.rename_column(original_column_name='Unnamed: 0', new_column_name='id')\n",
    "total_sample = QA_set['train'].num_rows"
   ]
  },
  {
   "cell_type": "code",
   "execution_count": 6,
   "id": "0d7cd4b2-27ec-4678-8821-b992951ac6e8",
   "metadata": {},
   "outputs": [
    {
     "data": {
      "application/vnd.jupyter.widget-view+json": {
       "model_id": "55b91490f42e4d54958749630f635dca",
       "version_major": 2,
       "version_minor": 0
      },
      "text/plain": [
       "Map:   0%|          | 0/2598 [00:00<?, ? examples/s]"
      ]
     },
     "metadata": {},
     "output_type": "display_data"
    },
    {
     "name": "stderr",
     "output_type": "stream",
     "text": [
      "/home/loc/miniconda3/envs/py38/lib/python3.8/site-packages/transformers/generation/utils.py:1885: UserWarning: You are calling .generate() with the `input_ids` being on a device type different than your model's device. `input_ids` is on cpu, whereas the model is on cuda. You may experience unexpected behaviors or slower generation. Please make sure that you have put `input_ids` to the correct device by calling for example input_ids = input_ids.to('cuda') before running `.generate()`.\n",
      "  warnings.warn(\n"
     ]
    },
    {
     "data": {
      "text/plain": [
       "DatasetDict({\n",
       "    train: Dataset({\n",
       "        features: ['id', 'prompt', 'question', 'answer', 'anwser_ja'],\n",
       "        num_rows: 2598\n",
       "    })\n",
       "})"
      ]
     },
     "execution_count": 6,
     "metadata": {},
     "output_type": "execute_result"
    }
   ],
   "source": [
    "def add_column_anwswer_ja(example):\n",
    "    return {\"anwser_ja\":translate_en_jp(example[\"answer\"])}\n",
    "\n",
    "QA_set = QA_set.map(add_column_anwswer_ja)\n",
    "\n",
    "QA_set"
   ]
  },
  {
   "cell_type": "code",
   "execution_count": 10,
   "id": "ef2a014d-1496-49df-80f1-981fc2d12109",
   "metadata": {},
   "outputs": [
    {
     "name": "stdout",
     "output_type": "stream",
     "text": [
      "English Answer: \n",
      " COBOL plays a crucial role in modernizing legacy systems. It allows businesses to maintain existing systems while gradually migrating to new technologies and improving their functionality.\n",
      "Japan Answer: \n",
      " COBOLは遺産システムの近代化において重要な役割を果たし、企業が既存のシステムを維持し、徐々に新しいテクノロジーに移行し、機能性を向上させることができる。\n"
     ]
    }
   ],
   "source": [
    "import random\n",
    "\n",
    "random_idx = random.choice(range(total_sample))\n",
    "\n",
    "print(\"English Answer: \\n\",QA_set['train']['answer'][random_idx])\n",
    "print(\"Japan Answer: \\n\",QA_set['train']['anwser_ja'][random_idx])"
   ]
  },
  {
   "cell_type": "code",
   "execution_count": 8,
   "id": "d0c5f941-0e72-4d01-b64b-cbb615768395",
   "metadata": {},
   "outputs": [
    {
     "data": {
      "application/vnd.jupyter.widget-view+json": {
       "model_id": "0cdbfb738661496489a5e4d19bb6b7f1",
       "version_major": 2,
       "version_minor": 0
      },
      "text/plain": [
       "Map:   0%|          | 0/2598 [00:00<?, ? examples/s]"
      ]
     },
     "metadata": {},
     "output_type": "display_data"
    },
    {
     "data": {
      "text/plain": [
       "DatasetDict({\n",
       "    train: Dataset({\n",
       "        features: ['id', 'prompt', 'question', 'answer', 'anwser_ja', 'question_ja'],\n",
       "        num_rows: 2598\n",
       "    })\n",
       "})"
      ]
     },
     "execution_count": 8,
     "metadata": {},
     "output_type": "execute_result"
    }
   ],
   "source": [
    "def add_column_anwswer_ja(example):\n",
    "    return {\"question_ja\":translate_en_jp(example[\"question\"])}\n",
    "\n",
    "QA_set = QA_set.map(add_column_anwswer_ja)\n",
    "\n",
    "QA_set"
   ]
  },
  {
   "cell_type": "code",
   "execution_count": 9,
   "id": "c56a24cf-b84b-4f79-b32e-37276f7be2de",
   "metadata": {},
   "outputs": [
    {
     "name": "stdout",
     "output_type": "stream",
     "text": [
      "English Question: \n",
      " What is the role of transaction tracing tools like Tracer in mainframe debugging?\n",
      "English Question: \n",
      " トラッカーのようなトランザクショントラッキングツールがメインフレームデブギングにおける役割は何ですか?\n"
     ]
    }
   ],
   "source": [
    "random_idx = random.choice(range(total_sample))\n",
    "\n",
    "print(\"English Question: \\n\",QA_set['train']['question'][random_idx])\n",
    "print(\"Japan Question: \\n\",QA_set['train']['question_ja'][random_idx])"
   ]
  },
  {
   "cell_type": "code",
   "execution_count": 11,
   "id": "5bebc47d-0993-4825-b714-eded7ca8f853",
   "metadata": {},
   "outputs": [
    {
     "data": {
      "application/vnd.jupyter.widget-view+json": {
       "model_id": "104b012704f94148b1d7bc7f74cdbbf8",
       "version_major": 2,
       "version_minor": 0
      },
      "text/plain": [
       "Uploading the dataset shards:   0%|          | 0/1 [00:00<?, ?it/s]"
      ]
     },
     "metadata": {},
     "output_type": "display_data"
    },
    {
     "data": {
      "application/vnd.jupyter.widget-view+json": {
       "model_id": "8025262939a94a46a9e7b00f8d9c86bf",
       "version_major": 2,
       "version_minor": 0
      },
      "text/plain": [
       "Creating parquet from Arrow format:   0%|          | 0/3 [00:00<?, ?ba/s]"
      ]
     },
     "metadata": {},
     "output_type": "display_data"
    },
    {
     "name": "stdout",
     "output_type": "stream",
     "text": [
      "Upload Successful!\n"
     ]
    }
   ],
   "source": [
    "# Updload to HF-Hub\n",
    "dataset_name = \"Mainframe-QA-en-ja\"\n",
    "QA_set.push_to_hub(dataset_name)\n",
    "\n",
    "print(\"Upload Successful!\")"
   ]
  },
  {
   "cell_type": "code",
   "execution_count": 12,
   "id": "3033081f-8811-404f-8472-6ad37e687695",
   "metadata": {},
   "outputs": [
    {
     "data": {
      "text/plain": [
       "DatasetDict({\n",
       "    train: Dataset({\n",
       "        features: ['id', 'prompt', 'question', 'answer', 'anwser_ja', 'question_ja'],\n",
       "        num_rows: 2598\n",
       "    })\n",
       "})"
      ]
     },
     "execution_count": 12,
     "metadata": {},
     "output_type": "execute_result"
    }
   ],
   "source": [
    "QA_set"
   ]
  },
  {
   "cell_type": "code",
   "execution_count": null,
   "id": "d030b56e-a5a0-4cf8-8c6f-a592fdc0c02a",
   "metadata": {},
   "outputs": [],
   "source": []
  }
 ],
 "metadata": {
  "kernelspec": {
   "display_name": "Python 3 (ipykernel)",
   "language": "python",
   "name": "python3"
  },
  "language_info": {
   "codemirror_mode": {
    "name": "ipython",
    "version": 3
   },
   "file_extension": ".py",
   "mimetype": "text/x-python",
   "name": "python",
   "nbconvert_exporter": "python",
   "pygments_lexer": "ipython3",
   "version": "3.8.19"
  }
 },
 "nbformat": 4,
 "nbformat_minor": 5
}
