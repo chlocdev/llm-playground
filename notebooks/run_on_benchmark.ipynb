{
 "cells": [
  {
   "cell_type": "markdown",
   "id": "740c59ee-7d68-4845-a043-7c8a466991d5",
   "metadata": {},
   "source": [
    "### MODELs\n",
    "|No|Model Name|Deploy link|Size on Disk|GPU inference|Support Japan|code COBOL|BLEU1|BLEU2|ROUGE1|ROUGE2|ROUGEL|\n",
    "|---|---|---|---|---|---|---|---|---|---|---|---|\n",
    "|1|[CohereForAI/aya-23-8B](https://huggingface.co/CohereForAI/aya-23-8B)|https://huggingface.co/spaces/CohereForAI/aya-23-8b|16.1G|>30G|Yes|Yes|25.42|19.60|0.33|0.17|0.25|\n",
    "|2|**[OrionStarAI/Orion-14B-Chat](https://---huggingface.co/OrionStarAI/Orion-14B-Chat)**|https://huggingface.co/spaces/OrionStarAI/Orion-14B-App-Demo-EN|**58.0G**|**>30G**|**Yes**|**Yes**|**37.08**|**28.32**|**0.34**|**0.17**|**0.27**|\n",
    "|3|[Qwen/Qwen2.5-Coder-7B-Instruct](https://huggingface.co/Qwen/Qwen2.5-Coder-7B-Instruct)|https://huggingface.co/spaces/Qwen/Qwen2.5-Coder-7B-Instruct|15.2G|>30G|Yes|Yes|32.75|24.23|0.32|0.15|0.22|\n",
    "|4|[meta-llama/Meta-Llama-3.1-8B-Instruct](https://huggingface.co/meta-llama/Llama-3.1-8B-Instruct)|https://huggingface.co/meta-llama/Llama-3.1-8B-Instruct|32.1G|>30G|Yes|Yes|34.19|26.07|0.34|0.19|0.25|"
   ]
  },
  {
   "cell_type": "markdown",
   "id": "cdde2cc6-73ca-45cc-82b8-65657de69d47",
   "metadata": {},
   "source": [
    "### CohereForAI/aya-23-8B"
   ]
  },
  {
   "cell_type": "code",
   "execution_count": 1,
   "id": "570a7d6a-3488-4ab9-834a-e992c03afc8a",
   "metadata": {},
   "outputs": [
    {
     "data": {
      "application/vnd.jupyter.widget-view+json": {
       "model_id": "9d7864e63a594788b5987ffb3ed49710",
       "version_major": 2,
       "version_minor": 0
      },
      "text/plain": [
       "Loading checkpoint shards:   0%|          | 0/4 [00:00<?, ?it/s]"
      ]
     },
     "metadata": {},
     "output_type": "display_data"
    },
    {
     "name": "stdout",
     "output_type": "stream",
     "text": [
      "<|START_OF_TURN_TOKEN|><|USER_TOKEN|>Anneme onu ne kadar sevdiğimi anlatan bir mektup yaz<|START_OF_TURN_TOKEN|><|CHATBOT_TOKEN|>Sevgili Anne,\n",
      "\n",
      "Bugün sana, kalbimin en derinliklerinden gelen bir mektup yazmak istiyorum. Seni ne kadar çok sevdiğimi ve hayatımın her anında ne kadar özel bir yer tuttuğunu\n"
     ]
    }
   ],
   "source": [
    "import warnings\n",
    "warnings.filterwarnings(\"ignore\")\n",
    "\n",
    "import random\n",
    "import torch\n",
    "import pandas as pd\n",
    "\n",
    "from datasets import load_dataset\n",
    "from transformers import AutoTokenizer, AutoModelForCausalLM\n",
    "\n",
    "model_id = \"CohereForAI/aya-23-8B\"\n",
    "tokenizer = AutoTokenizer.from_pretrained(model_id)\n",
    "model = AutoModelForCausalLM.from_pretrained(model_id,\n",
    "                                             device_map=\"auto\",\n",
    "                                             torch_dtype=torch.float32,)\n",
    "\n",
    "# Format message with the command-r-plus chat template\n",
    "messages = [{\"role\": \"user\", \"content\": \"Anneme onu ne kadar sevdiğimi anlatan bir mektup yaz\"}]\n",
    "input_ids = tokenizer.apply_chat_template(messages, tokenize=True,\n",
    "                                          add_generation_prompt=True,\n",
    "                                          return_tensors=\"pt\")\n",
    "## <BOS_TOKEN><|START_OF_TURN_TOKEN|><|USER_TOKEN|>Anneme onu ne kadar sevdiğimi anlatan bir mektup yaz<|END_OF_TURN_TOKEN|><|START_OF_TURN_TOKEN|><|CHATBOT_TOKEN|>\n",
    "\n",
    "gen_tokens = model.generate(\n",
    "    input_ids, \n",
    "    max_new_tokens=50, \n",
    "    do_sample=True, \n",
    "    temperature=0.3,\n",
    "    )\n",
    "\n",
    "gen_text = tokenizer.decode(gen_tokens[0],skip_special_tokens=True)\n",
    "print(gen_text)"
   ]
  },
  {
   "cell_type": "code",
   "execution_count": 2,
   "id": "577fc6ec-342b-45d3-bc48-69327cae2f74",
   "metadata": {},
   "outputs": [],
   "source": [
    "def get_completion(sentence:str):\n",
    "\n",
    "    messages = [{\"role\": \"user\", \"content\": sentence}]\n",
    "\n",
    "    input_ids = tokenizer.apply_chat_template(messages, tokenize=True, add_generation_prompt=True, return_tensors=\"pt\")\n",
    "    \n",
    "    gen_tokens = model.generate(\n",
    "        input_ids, \n",
    "        max_new_tokens=50, \n",
    "        do_sample=True, \n",
    "        temperature=0.3,\n",
    "    )\n",
    "\n",
    "    gen_text = tokenizer.decode(gen_tokens[0],skip_special_tokens=True)\n",
    "    return gen_text"
   ]
  },
  {
   "cell_type": "code",
   "execution_count": 3,
   "id": "f43bc026-6452-444e-8fe9-a41bef80afa1",
   "metadata": {},
   "outputs": [
    {
     "data": {
      "text/plain": [
       "'<|START_OF_TURN_TOKEN|><|USER_TOKEN|>こんにちは、お会いできて嬉しいです<|START_OF_TURN_TOKEN|><|CHATBOT_TOKEN|>こんにちは！私もお会いできて嬉しいです。何かお手伝いできることはありますか？'"
      ]
     },
     "execution_count": 3,
     "metadata": {},
     "output_type": "execute_result"
    }
   ],
   "source": [
    "get_completion(\"こんにちは、お会いできて嬉しいです\")"
   ]
  },
  {
   "cell_type": "code",
   "execution_count": 4,
   "id": "fef74dda-bb41-4229-8a09-2d34aa2910f6",
   "metadata": {},
   "outputs": [
    {
     "data": {
      "text/plain": [
       "DatasetDict({\n",
       "    train: Dataset({\n",
       "        features: ['id', 'prompt', 'question', 'answer', 'anwser_ja', 'question_ja'],\n",
       "        num_rows: 300\n",
       "    })\n",
       "})"
      ]
     },
     "execution_count": 4,
     "metadata": {},
     "output_type": "execute_result"
    }
   ],
   "source": [
    "# Load and preprocess dataset\n",
    "QA_set = load_dataset(\"locchuong/Mainframe-QA-en-ja-300\")\n",
    "QA_set"
   ]
  },
  {
   "cell_type": "code",
   "execution_count": 5,
   "id": "314500ec-6c73-448b-a764-7821a29f14c9",
   "metadata": {},
   "outputs": [],
   "source": [
    "def add_completion(example):\n",
    "    return {\"completion\":get_completion(example[\"question_ja\"])}"
   ]
  },
  {
   "cell_type": "code",
   "execution_count": 6,
   "id": "4b4afba1-dccf-469c-b262-f5b737f236e6",
   "metadata": {},
   "outputs": [],
   "source": [
    "# QA_set = QA_set.map(add_completion)"
   ]
  },
  {
   "cell_type": "code",
   "execution_count": 7,
   "id": "77bb13c2-817d-499c-b82f-09a40195fbcb",
   "metadata": {},
   "outputs": [
    {
     "name": "stdout",
     "output_type": "stream",
     "text": [
      "Question:\n",
      " メインフレームでの雇用検索の目的は?\n",
      "Answer:\n",
      " A Job Queue in Mainframes は、システムが実行するのを待っている仕事のリポジトリとして機能し、その仕事の優先事項、地位、およびリソース要件などに関する情報を保有します。\n",
      "Completion:\n",
      " <|START_OF_TURN_TOKEN|><|USER_TOKEN|>メインフレームでの雇用検索の目的は?<|START_OF_TURN_TOKEN|><|CHATBOT_TOKEN|>メインフレームでの雇用検索の主な目的は、組織がメインフレーム環境内で必要なスキル、専門知識、人材を特定して獲得できるようにすることです。メインフレームは、企業の重要なコンピューティング\n"
     ]
    }
   ],
   "source": [
    "total_sample = QA_set['train'].num_rows\n",
    "random_idx = random.choice(range(total_sample))\n",
    "question = QA_set['train'][random_idx]['question_ja']\n",
    "answer = QA_set['train'][random_idx]['anwser_ja']\n",
    "completion = get_completion(question)\n",
    "\n",
    "print(\"Question:\\n\",question)\n",
    "print(\"Answer:\\n\",answer)\n",
    "print(\"Completion:\\n\",completion)"
   ]
  },
  {
   "cell_type": "code",
   "execution_count": 8,
   "id": "dd21023e-35bc-48bf-9e81-c14090958b67",
   "metadata": {},
   "outputs": [
    {
     "name": "stdout",
     "output_type": "stream",
     "text": [
      "0\n",
      "5\n",
      "10\n",
      "15\n",
      "20\n",
      "25\n",
      "30\n",
      "35\n",
      "40\n",
      "45\n",
      "50\n",
      "55\n",
      "60\n",
      "65\n",
      "70\n",
      "75\n",
      "80\n",
      "85\n",
      "90\n",
      "95\n",
      "100\n",
      "105\n",
      "110\n",
      "115\n",
      "120\n",
      "125\n",
      "130\n",
      "135\n",
      "140\n",
      "145\n",
      "150\n",
      "155\n",
      "160\n",
      "165\n",
      "170\n",
      "175\n",
      "180\n",
      "185\n",
      "190\n",
      "195\n",
      "200\n",
      "205\n",
      "210\n",
      "215\n",
      "220\n",
      "225\n",
      "230\n",
      "235\n",
      "240\n",
      "245\n",
      "250\n",
      "255\n",
      "260\n",
      "265\n",
      "270\n",
      "275\n",
      "280\n",
      "285\n",
      "290\n",
      "295\n"
     ]
    }
   ],
   "source": [
    "completions = []\n",
    "for i in range(QA_set['train'].num_rows):\n",
    "    if i %5==0:\n",
    "        print(i)\n",
    "    completions.append(get_completion(QA_set['train'][i][\"question_ja\"]))"
   ]
  },
  {
   "cell_type": "code",
   "execution_count": 11,
   "id": "0ac488b9-8230-4cea-b93b-258aec47c819",
   "metadata": {},
   "outputs": [],
   "source": [
    "# Add the new column\n",
    "QA_set = QA_set['train'].add_column(\"completion\", completions)"
   ]
  },
  {
   "cell_type": "code",
   "execution_count": 14,
   "id": "257aab9b-4588-4319-aafe-51309c9a4d82",
   "metadata": {},
   "outputs": [
    {
     "name": "stdout",
     "output_type": "stream",
     "text": [
      "Dataset successfully exported to CSV!\n"
     ]
    },
    {
     "data": {
      "text/html": [
       "<div>\n",
       "<style scoped>\n",
       "    .dataframe tbody tr th:only-of-type {\n",
       "        vertical-align: middle;\n",
       "    }\n",
       "\n",
       "    .dataframe tbody tr th {\n",
       "        vertical-align: top;\n",
       "    }\n",
       "\n",
       "    .dataframe thead th {\n",
       "        text-align: right;\n",
       "    }\n",
       "</style>\n",
       "<table border=\"1\" class=\"dataframe\">\n",
       "  <thead>\n",
       "    <tr style=\"text-align: right;\">\n",
       "      <th></th>\n",
       "      <th>id</th>\n",
       "      <th>prompt</th>\n",
       "      <th>question</th>\n",
       "      <th>answer</th>\n",
       "      <th>anwser_ja</th>\n",
       "      <th>question_ja</th>\n",
       "      <th>completion</th>\n",
       "    </tr>\n",
       "  </thead>\n",
       "  <tbody>\n",
       "    <tr>\n",
       "      <th>0</th>\n",
       "      <td>2276</td>\n",
       "      <td>As a supportive AI assistant, you've been give...</td>\n",
       "      <td>What is the role of the line printer in a main...</td>\n",
       "      <td>The line printer is responsible for printing h...</td>\n",
       "      <td>ラインプリンターは、メインフレームからハードコピーの出力を印刷する責任があり、通常は長期保存...</td>\n",
       "      <td>メインフレームユーザーインターフェイスにおけるラインプリンターの役割は何ですか?</td>\n",
       "      <td>&lt;|START_OF_TURN_TOKEN|&gt;&lt;|USER_TOKEN|&gt;メインフレームユー...</td>\n",
       "    </tr>\n",
       "    <tr>\n",
       "      <th>1</th>\n",
       "      <td>974</td>\n",
       "      <td>As a helpful AI assistant, you've received a q...</td>\n",
       "      <td>What is the syntax in COBOL to display the cur...</td>\n",
       "      <td>To display the current system time in COBOL, y...</td>\n",
       "      <td>COBOL で現在のシステム時間を表示するには、CURRENT-TIME 特別記録で EXT...</td>\n",
       "      <td>COBOL で現在のシステムタイムを表示するための合成は何ですか?</td>\n",
       "      <td>&lt;|START_OF_TURN_TOKEN|&gt;&lt;|USER_TOKEN|&gt;COBOL で現在...</td>\n",
       "    </tr>\n",
       "    <tr>\n",
       "      <th>2</th>\n",
       "      <td>1153</td>\n",
       "      <td>In your role as a supportive AI assistant, you...</td>\n",
       "      <td>What was the role of COBOL 2002?</td>\n",
       "      <td>COBOL 2002, officially known as ISO/IEC 1989:2...</td>\n",
       "      <td>COBOL 2002は、正式にISO/IEC 1989:2002として知られ、第3のCOBO...</td>\n",
       "      <td>COBOL 2002の役割は?</td>\n",
       "      <td>&lt;|START_OF_TURN_TOKEN|&gt;&lt;|USER_TOKEN|&gt;COBOL 200...</td>\n",
       "    </tr>\n",
       "    <tr>\n",
       "      <th>3</th>\n",
       "      <td>751</td>\n",
       "      <td>In your role as a supportive AI assistant, you...</td>\n",
       "      <td>What is the role of the FILE SECTION?</td>\n",
       "      <td>The File Section is used to define the file la...</td>\n",
       "      <td>ファイルセクションは、ファイルの配置とファイルの状態、レコード形式、レコードキーなどの関連情...</td>\n",
       "      <td>ファイルセクションの役割は?</td>\n",
       "      <td>&lt;|START_OF_TURN_TOKEN|&gt;&lt;|USER_TOKEN|&gt;ファイルセクション...</td>\n",
       "    </tr>\n",
       "    <tr>\n",
       "      <th>4</th>\n",
       "      <td>1826</td>\n",
       "      <td>You are a helpful AI assistant. You have been ...</td>\n",
       "      <td>What is the role of automation in modern mainf...</td>\n",
       "      <td>Automation plays a crucial role in modern main...</td>\n",
       "      <td>自動化は現代のメインフレームメンテナンスにおいて重要な役割を果たし、メンテナンス作業に必要な...</td>\n",
       "      <td>現代のメインフレームメンテナンスにおける自動化の役割は何ですか?</td>\n",
       "      <td>&lt;|START_OF_TURN_TOKEN|&gt;&lt;|USER_TOKEN|&gt;現代のメインフレー...</td>\n",
       "    </tr>\n",
       "  </tbody>\n",
       "</table>\n",
       "</div>"
      ],
      "text/plain": [
       "     id                                             prompt  \\\n",
       "0  2276  As a supportive AI assistant, you've been give...   \n",
       "1   974  As a helpful AI assistant, you've received a q...   \n",
       "2  1153  In your role as a supportive AI assistant, you...   \n",
       "3   751  In your role as a supportive AI assistant, you...   \n",
       "4  1826  You are a helpful AI assistant. You have been ...   \n",
       "\n",
       "                                            question  \\\n",
       "0  What is the role of the line printer in a main...   \n",
       "1  What is the syntax in COBOL to display the cur...   \n",
       "2                   What was the role of COBOL 2002?   \n",
       "3              What is the role of the FILE SECTION?   \n",
       "4  What is the role of automation in modern mainf...   \n",
       "\n",
       "                                              answer  \\\n",
       "0  The line printer is responsible for printing h...   \n",
       "1  To display the current system time in COBOL, y...   \n",
       "2  COBOL 2002, officially known as ISO/IEC 1989:2...   \n",
       "3  The File Section is used to define the file la...   \n",
       "4  Automation plays a crucial role in modern main...   \n",
       "\n",
       "                                           anwser_ja  \\\n",
       "0  ラインプリンターは、メインフレームからハードコピーの出力を印刷する責任があり、通常は長期保存...   \n",
       "1  COBOL で現在のシステム時間を表示するには、CURRENT-TIME 特別記録で EXT...   \n",
       "2  COBOL 2002は、正式にISO/IEC 1989:2002として知られ、第3のCOBO...   \n",
       "3  ファイルセクションは、ファイルの配置とファイルの状態、レコード形式、レコードキーなどの関連情...   \n",
       "4  自動化は現代のメインフレームメンテナンスにおいて重要な役割を果たし、メンテナンス作業に必要な...   \n",
       "\n",
       "                                question_ja  \\\n",
       "0  メインフレームユーザーインターフェイスにおけるラインプリンターの役割は何ですか?   \n",
       "1         COBOL で現在のシステムタイムを表示するための合成は何ですか?   \n",
       "2                           COBOL 2002の役割は?   \n",
       "3                            ファイルセクションの役割は?   \n",
       "4          現代のメインフレームメンテナンスにおける自動化の役割は何ですか?   \n",
       "\n",
       "                                          completion  \n",
       "0  <|START_OF_TURN_TOKEN|><|USER_TOKEN|>メインフレームユー...  \n",
       "1  <|START_OF_TURN_TOKEN|><|USER_TOKEN|>COBOL で現在...  \n",
       "2  <|START_OF_TURN_TOKEN|><|USER_TOKEN|>COBOL 200...  \n",
       "3  <|START_OF_TURN_TOKEN|><|USER_TOKEN|>ファイルセクション...  \n",
       "4  <|START_OF_TURN_TOKEN|><|USER_TOKEN|>現代のメインフレー...  "
      ]
     },
     "execution_count": 14,
     "metadata": {},
     "output_type": "execute_result"
    }
   ],
   "source": [
    "# Convert the dataset to a pandas DataFrame (for train split)\n",
    "df_train = pd.DataFrame(QA_set)\n",
    "\n",
    "# Save the DataFrame to a CSV file\n",
    "df_train.to_csv('aya-23-8B.csv', index=False)\n",
    "\n",
    "print(\"Dataset successfully exported to CSV!\")\n",
    "\n",
    "df_train.head()"
   ]
  },
  {
   "cell_type": "markdown",
   "id": "fd5abbb0-6899-4e39-9073-95ccbeac6047",
   "metadata": {},
   "source": [
    "### Qwen/Qwen2.5-Coder-7B-Instruct"
   ]
  },
  {
   "cell_type": "code",
   "execution_count": 1,
   "id": "b532f759-c23f-4618-84ad-050076b582d6",
   "metadata": {},
   "outputs": [
    {
     "data": {
      "application/vnd.jupyter.widget-view+json": {
       "model_id": "669d581af9594af8955b2d863d508062",
       "version_major": 2,
       "version_minor": 0
      },
      "text/plain": [
       "Loading checkpoint shards:   0%|          | 0/4 [00:00<?, ?it/s]"
      ]
     },
     "metadata": {},
     "output_type": "display_data"
    },
    {
     "name": "stdout",
     "output_type": "stream",
     "text": [
      "Sure! Here's a simple implementation of the Quick Sort algorithm in Python:\n",
      "\n",
      "```python\n",
      "def quick_sort(arr):\n",
      "    if len(arr) <= 1:\n",
      "        return arr\n",
      "    else:\n",
      "        pivot = arr[len(arr) // 2]\n",
      "        left = [x for x in arr if x < pivot]\n",
      "        middle = [x for x in arr if x == pivot]\n",
      "        right = [x for x in arr if x > pivot]\n",
      "        return quick_sort(left) + middle + quick_sort(right)\n",
      "\n",
      "# Example usage:\n",
      "arr = [3, 6, 8, 10, 1, 2, 1]\n",
      "print(\"Original array:\", arr)\n",
      "sorted_arr = quick_sort(arr)\n",
      "print(\"Sorted array:\", sorted_arr)\n",
      "```\n",
      "\n",
      "### Explanation:\n",
      "1. **Base Case**: If the array has 0 or 1 elements, it is already sorted.\n",
      "2. **Pivot Selection**: Choose a pivot element from the array. In this case, we choose the middle element.\n",
      "3. **Partitioning**: Divide the array into three sub-arrays:\n",
      "   - `left`: All elements less than the pivot.\n",
      "   - `middle`: All elements equal to the pivot.\n",
      "   - `right`: All elements greater than the pivot.\n",
      "4. **Recursive Sorting**: Recursively apply the same process to the `left` and `right` sub-arrays.\n",
      "5. **Concatenation**: Combine the sorted `left` sub-array, the `middle` sub-array, and the sorted `right` sub-array.\n",
      "\n",
      "This implementation uses list comprehensions for partitioning, which makes it concise but may not be the most efficient in terms of space complexity due to the creation of new lists at each recursive call. For large arrays, an in-place version of Quick Sort would be more memory-efficient.\n"
     ]
    }
   ],
   "source": [
    "import warnings\n",
    "warnings.filterwarnings(\"ignore\")\n",
    "\n",
    "import random\n",
    "import torch\n",
    "import pandas as pd\n",
    "\n",
    "from datasets import load_dataset\n",
    "from transformers import AutoModelForCausalLM, AutoTokenizer\n",
    "\n",
    "model_name = \"Qwen/Qwen2.5-Coder-7B-Instruct\"\n",
    "\n",
    "model = AutoModelForCausalLM.from_pretrained(\n",
    "    model_name,\n",
    "    torch_dtype=torch.float32,\n",
    "    device_map=\"auto\"\n",
    ")\n",
    "tokenizer = AutoTokenizer.from_pretrained(model_name)\n",
    "\n",
    "prompt = \"write a quick sort algorithm.\"\n",
    "messages = [\n",
    "    {\"role\": \"system\", \"content\": \"You are Qwen, created by Alibaba Cloud. You are a helpful assistant.\"},\n",
    "    {\"role\": \"user\", \"content\": prompt}\n",
    "]\n",
    "text = tokenizer.apply_chat_template(\n",
    "    messages,\n",
    "    tokenize=False,\n",
    "    add_generation_prompt=True\n",
    ")\n",
    "model_inputs = tokenizer([text], return_tensors=\"pt\").to(model.device)\n",
    "\n",
    "generated_ids = model.generate(\n",
    "    **model_inputs,\n",
    "    max_new_tokens=512\n",
    ")\n",
    "generated_ids = [\n",
    "    output_ids[len(input_ids):] for input_ids, output_ids in zip(model_inputs.input_ids, generated_ids)\n",
    "]\n",
    "\n",
    "response = tokenizer.batch_decode(generated_ids, skip_special_tokens=True)[0]\n",
    "\n",
    "print(response)"
   ]
  },
  {
   "cell_type": "code",
   "execution_count": 2,
   "id": "510b236d-7ef5-44f0-b73f-f28f44535633",
   "metadata": {},
   "outputs": [],
   "source": [
    "def get_completion(sentence:str):\n",
    "    messages = [\n",
    "    {\"role\": \"system\", \"content\": \"You are Qwen, created by Alibaba Cloud. You are a helpful assistant.\"},\n",
    "    {\"role\": \"user\", \"content\": sentence}\n",
    "    ]\n",
    "    \n",
    "    text = tokenizer.apply_chat_template(\n",
    "        messages,\n",
    "        tokenize=False,\n",
    "        add_generation_prompt=True\n",
    "    )\n",
    "    model_inputs = tokenizer([text], return_tensors=\"pt\").to(model.device)\n",
    "    \n",
    "    generated_ids = model.generate(**model_inputs, max_new_tokens=100)\n",
    "    \n",
    "    generated_ids = [\n",
    "        output_ids[len(input_ids):] for input_ids,\n",
    "        output_ids in zip(model_inputs.input_ids, generated_ids)\n",
    "    ]\n",
    "\n",
    "    return tokenizer.batch_decode(generated_ids, skip_special_tokens=True)[0]"
   ]
  },
  {
   "cell_type": "code",
   "execution_count": 3,
   "id": "42c3bd29-8212-430c-b5d1-54b2f8dc9eaf",
   "metadata": {},
   "outputs": [
    {
     "data": {
      "text/plain": [
       "'こんにちは！何かお手伝いできることはありますか？'"
      ]
     },
     "execution_count": 3,
     "metadata": {},
     "output_type": "execute_result"
    }
   ],
   "source": [
    "get_completion(\"こんにちは、お会いできて嬉しいです\")"
   ]
  },
  {
   "cell_type": "code",
   "execution_count": 4,
   "id": "59fa8128-3f52-40f8-97e5-59017f0a5aaf",
   "metadata": {},
   "outputs": [
    {
     "data": {
      "text/plain": [
       "DatasetDict({\n",
       "    train: Dataset({\n",
       "        features: ['id', 'prompt', 'question', 'answer', 'anwser_ja', 'question_ja'],\n",
       "        num_rows: 300\n",
       "    })\n",
       "})"
      ]
     },
     "execution_count": 4,
     "metadata": {},
     "output_type": "execute_result"
    }
   ],
   "source": [
    "# Load and preprocess dataset\n",
    "QA_set = load_dataset(\"locchuong/Mainframe-QA-en-ja-300\")\n",
    "QA_set"
   ]
  },
  {
   "cell_type": "code",
   "execution_count": 5,
   "id": "ca295fed-5e24-429d-9f55-6358a76d0924",
   "metadata": {},
   "outputs": [
    {
     "name": "stdout",
     "output_type": "stream",
     "text": [
      "Question:\n",
      " メインフレームの近代化におけるアプリケーションプログラミングインターフェイス(API)の役割は何ですか?\n",
      "Answer:\n",
      " アプリケーションプログラミングインターフェイス(API)は、メインフレームの近代化において重要な役割を果たし、伝統的なメインフレームシステムと近代的でスケール可能なアプリケーションの統合を可能にし、データ移行を容易にし、システム全体のパフォーマンスを向上させます。\n",
      "Completion:\n",
      " API（Application Programming Interface、アプリケーションプログラミングインターフェイス）は、異なるソフトウェアシステムが互いに通信するために使用される規則やプロトコルです。主に以下のような役割を果たします。\n",
      "\n",
      "1. データ共有: APIを使用することで、異なるシステム間でデータを共有することができます。これにより、複数のシステムが同じデータにアクセスし、必要に応じて情報を交換することができます。\n",
      "\n",
      "2. �\n"
     ]
    }
   ],
   "source": [
    "total_sample = QA_set['train'].num_rows\n",
    "random_idx = random.choice(range(total_sample))\n",
    "question = QA_set['train'][random_idx]['question_ja']\n",
    "answer = QA_set['train'][random_idx]['anwser_ja']\n",
    "completion = get_completion(question)\n",
    "\n",
    "print(\"Question:\\n\",question)\n",
    "print(\"Answer:\\n\",answer)\n",
    "print(\"Completion:\\n\",completion)"
   ]
  },
  {
   "cell_type": "code",
   "execution_count": 6,
   "id": "524c7c0d-73c9-4740-a491-6c45bcb7a041",
   "metadata": {},
   "outputs": [],
   "source": [
    "def add_completion(example):\n",
    "    return {\"completion\":get_completion(example[\"question_ja\"])}"
   ]
  },
  {
   "cell_type": "code",
   "execution_count": 7,
   "id": "997bb67a-d991-42ce-996d-0da4b9dc82a0",
   "metadata": {},
   "outputs": [
    {
     "name": "stdout",
     "output_type": "stream",
     "text": [
      "0\n",
      "10\n",
      "20\n",
      "30\n",
      "40\n",
      "50\n",
      "60\n",
      "70\n",
      "80\n",
      "90\n",
      "100\n",
      "110\n",
      "120\n",
      "130\n",
      "140\n",
      "150\n",
      "160\n",
      "170\n",
      "180\n",
      "190\n",
      "200\n",
      "210\n",
      "220\n",
      "230\n",
      "240\n",
      "250\n",
      "260\n",
      "270\n",
      "280\n",
      "290\n"
     ]
    }
   ],
   "source": [
    "completions = []\n",
    "for i in range(QA_set['train'].num_rows):\n",
    "    if i %10==0:\n",
    "        print(i)\n",
    "    completions.append(get_completion(QA_set['train'][i][\"question_ja\"]))"
   ]
  },
  {
   "cell_type": "code",
   "execution_count": 8,
   "id": "a3d94b74-3a80-445e-bc8c-05c2e6c36abc",
   "metadata": {},
   "outputs": [
    {
     "name": "stdout",
     "output_type": "stream",
     "text": [
      "Dataset successfully exported to CSV!\n"
     ]
    },
    {
     "data": {
      "text/html": [
       "<div>\n",
       "<style scoped>\n",
       "    .dataframe tbody tr th:only-of-type {\n",
       "        vertical-align: middle;\n",
       "    }\n",
       "\n",
       "    .dataframe tbody tr th {\n",
       "        vertical-align: top;\n",
       "    }\n",
       "\n",
       "    .dataframe thead th {\n",
       "        text-align: right;\n",
       "    }\n",
       "</style>\n",
       "<table border=\"1\" class=\"dataframe\">\n",
       "  <thead>\n",
       "    <tr style=\"text-align: right;\">\n",
       "      <th></th>\n",
       "      <th>id</th>\n",
       "      <th>prompt</th>\n",
       "      <th>question</th>\n",
       "      <th>answer</th>\n",
       "      <th>anwser_ja</th>\n",
       "      <th>question_ja</th>\n",
       "      <th>completion</th>\n",
       "    </tr>\n",
       "  </thead>\n",
       "  <tbody>\n",
       "    <tr>\n",
       "      <th>0</th>\n",
       "      <td>2276</td>\n",
       "      <td>As a supportive AI assistant, you've been give...</td>\n",
       "      <td>What is the role of the line printer in a main...</td>\n",
       "      <td>The line printer is responsible for printing h...</td>\n",
       "      <td>ラインプリンターは、メインフレームからハードコピーの出力を印刷する責任があり、通常は長期保存...</td>\n",
       "      <td>メインフレームユーザーインターフェイスにおけるラインプリンターの役割は何ですか?</td>\n",
       "      <td>メインフレームユーザーインターフェイスにおけるラインプリンターは、データや情報の表示や出力に...</td>\n",
       "    </tr>\n",
       "    <tr>\n",
       "      <th>1</th>\n",
       "      <td>974</td>\n",
       "      <td>As a helpful AI assistant, you've received a q...</td>\n",
       "      <td>What is the syntax in COBOL to display the cur...</td>\n",
       "      <td>To display the current system time in COBOL, y...</td>\n",
       "      <td>COBOL で現在のシステム時間を表示するには、CURRENT-TIME 特別記録で EXT...</td>\n",
       "      <td>COBOL で現在のシステムタイムを表示するための合成は何ですか?</td>\n",
       "      <td>COBOL で現在のシステムタイムを表示するためには、以下の合成を使用します。\\n\\n```...</td>\n",
       "    </tr>\n",
       "    <tr>\n",
       "      <th>2</th>\n",
       "      <td>1153</td>\n",
       "      <td>In your role as a supportive AI assistant, you...</td>\n",
       "      <td>What was the role of COBOL 2002?</td>\n",
       "      <td>COBOL 2002, officially known as ISO/IEC 1989:2...</td>\n",
       "      <td>COBOL 2002は、正式にISO/IEC 1989:2002として知られ、第3のCOBO...</td>\n",
       "      <td>COBOL 2002の役割は?</td>\n",
       "      <td>COBOL (Common Business-Oriented Language) 2002...</td>\n",
       "    </tr>\n",
       "    <tr>\n",
       "      <th>3</th>\n",
       "      <td>751</td>\n",
       "      <td>In your role as a supportive AI assistant, you...</td>\n",
       "      <td>What is the role of the FILE SECTION?</td>\n",
       "      <td>The File Section is used to define the file la...</td>\n",
       "      <td>ファイルセクションは、ファイルの配置とファイルの状態、レコード形式、レコードキーなどの関連情...</td>\n",
       "      <td>ファイルセクションの役割は?</td>\n",
       "      <td>ファイルセクションは、プログラムやデータがコンピュータ上でどのように組織化され、どこから読み...</td>\n",
       "    </tr>\n",
       "    <tr>\n",
       "      <th>4</th>\n",
       "      <td>1826</td>\n",
       "      <td>You are a helpful AI assistant. You have been ...</td>\n",
       "      <td>What is the role of automation in modern mainf...</td>\n",
       "      <td>Automation plays a crucial role in modern main...</td>\n",
       "      <td>自動化は現代のメインフレームメンテナンスにおいて重要な役割を果たし、メンテナンス作業に必要な...</td>\n",
       "      <td>現代のメインフレームメンテナンスにおける自動化の役割は何ですか?</td>\n",
       "      <td>現代のメインフレームメンテナンスにおける自動化の役割は非常に重要です。以下にその役割をいくつ...</td>\n",
       "    </tr>\n",
       "  </tbody>\n",
       "</table>\n",
       "</div>"
      ],
      "text/plain": [
       "     id                                             prompt  \\\n",
       "0  2276  As a supportive AI assistant, you've been give...   \n",
       "1   974  As a helpful AI assistant, you've received a q...   \n",
       "2  1153  In your role as a supportive AI assistant, you...   \n",
       "3   751  In your role as a supportive AI assistant, you...   \n",
       "4  1826  You are a helpful AI assistant. You have been ...   \n",
       "\n",
       "                                            question  \\\n",
       "0  What is the role of the line printer in a main...   \n",
       "1  What is the syntax in COBOL to display the cur...   \n",
       "2                   What was the role of COBOL 2002?   \n",
       "3              What is the role of the FILE SECTION?   \n",
       "4  What is the role of automation in modern mainf...   \n",
       "\n",
       "                                              answer  \\\n",
       "0  The line printer is responsible for printing h...   \n",
       "1  To display the current system time in COBOL, y...   \n",
       "2  COBOL 2002, officially known as ISO/IEC 1989:2...   \n",
       "3  The File Section is used to define the file la...   \n",
       "4  Automation plays a crucial role in modern main...   \n",
       "\n",
       "                                           anwser_ja  \\\n",
       "0  ラインプリンターは、メインフレームからハードコピーの出力を印刷する責任があり、通常は長期保存...   \n",
       "1  COBOL で現在のシステム時間を表示するには、CURRENT-TIME 特別記録で EXT...   \n",
       "2  COBOL 2002は、正式にISO/IEC 1989:2002として知られ、第3のCOBO...   \n",
       "3  ファイルセクションは、ファイルの配置とファイルの状態、レコード形式、レコードキーなどの関連情...   \n",
       "4  自動化は現代のメインフレームメンテナンスにおいて重要な役割を果たし、メンテナンス作業に必要な...   \n",
       "\n",
       "                                question_ja  \\\n",
       "0  メインフレームユーザーインターフェイスにおけるラインプリンターの役割は何ですか?   \n",
       "1         COBOL で現在のシステムタイムを表示するための合成は何ですか?   \n",
       "2                           COBOL 2002の役割は?   \n",
       "3                            ファイルセクションの役割は?   \n",
       "4          現代のメインフレームメンテナンスにおける自動化の役割は何ですか?   \n",
       "\n",
       "                                          completion  \n",
       "0  メインフレームユーザーインターフェイスにおけるラインプリンターは、データや情報の表示や出力に...  \n",
       "1  COBOL で現在のシステムタイムを表示するためには、以下の合成を使用します。\\n\\n```...  \n",
       "2  COBOL (Common Business-Oriented Language) 2002...  \n",
       "3  ファイルセクションは、プログラムやデータがコンピュータ上でどのように組織化され、どこから読み...  \n",
       "4  現代のメインフレームメンテナンスにおける自動化の役割は非常に重要です。以下にその役割をいくつ...  "
      ]
     },
     "execution_count": 8,
     "metadata": {},
     "output_type": "execute_result"
    }
   ],
   "source": [
    "# Add the new column\n",
    "QA_set = QA_set['train'].add_column(\"completion\", completions)\n",
    "\n",
    "# Convert the dataset to a pandas DataFrame (for train split)\n",
    "df_train = pd.DataFrame(QA_set)\n",
    "\n",
    "# Save the DataFrame to a CSV file\n",
    "df_train.to_csv('Qwen2.5-Coder-7B-Instruct.csv', index=False)\n",
    "\n",
    "print(\"Dataset successfully exported to CSV!\")\n",
    "\n",
    "df_train.head()"
   ]
  },
  {
   "cell_type": "markdown",
   "id": "247bc5a4-d6c6-4d74-b57e-15de834f95e4",
   "metadata": {},
   "source": [
    "### OrionStarAI/Orion-14B-Chat"
   ]
  },
  {
   "cell_type": "code",
   "execution_count": 1,
   "id": "1e08b76d-feaf-4557-a075-b5759503be70",
   "metadata": {},
   "outputs": [
    {
     "data": {
      "application/vnd.jupyter.widget-view+json": {
       "model_id": "11ea423679af495ba5a5ca2b3295d143",
       "version_major": 2,
       "version_minor": 0
      },
      "text/plain": [
       "Loading checkpoint shards:   0%|          | 0/3 [00:00<?, ?it/s]"
      ]
     },
     "metadata": {},
     "output_type": "display_data"
    },
    {
     "name": "stdout",
     "output_type": "stream",
     "text": [
      "Hello! I am an AI language model created by OrionStar. My name is ChatGPT, but you can call me GPT for short. How can I assist you today?\n"
     ]
    }
   ],
   "source": [
    "import warnings\n",
    "warnings.filterwarnings(\"ignore\")\n",
    "\n",
    "import random\n",
    "import torch\n",
    "import pandas as pd\n",
    "\n",
    "from datasets import load_dataset\n",
    "from transformers import AutoModelForCausalLM, AutoTokenizer\n",
    "\n",
    "from transformers.generation.utils import GenerationConfig\n",
    "\n",
    "tokenizer = AutoTokenizer.from_pretrained(\"OrionStarAI/Orion-14B-Chat\", use_fast=False, trust_remote_code=True)\n",
    "model = AutoModelForCausalLM.from_pretrained(\"OrionStarAI/Orion-14B-Chat\", device_map=\"auto\",\n",
    "                                             torch_dtype=torch.bfloat16, trust_remote_code=True)\n",
    "\n",
    "model.generation_config = GenerationConfig.from_pretrained(\"OrionStarAI/Orion-14B-Chat\")\n",
    "messages = [{\"role\": \"user\", \"content\": \"Hello, what is your name? \"}]\n",
    "response = model.chat(tokenizer, messages, streaming=False)\n",
    "print(response)\n"
   ]
  },
  {
   "cell_type": "code",
   "execution_count": 2,
   "id": "174b9e4d-c76f-4cab-831a-c10c552e22ba",
   "metadata": {},
   "outputs": [],
   "source": [
    "def get_completion(sentence:str):\n",
    "    messages = [{\"role\": \"user\", \"content\": sentence}]\n",
    "    return model.chat(tokenizer, messages, streaming=False)"
   ]
  },
  {
   "cell_type": "code",
   "execution_count": 3,
   "id": "fe13fdd1-f0b1-4695-949b-62d41ba87212",
   "metadata": {},
   "outputs": [
    {
     "data": {
      "text/plain": [
       "'こんにちは!あなたにお会いできることを楽しみにしています。どのような質問や会話のきっかけをお望みですか？'"
      ]
     },
     "execution_count": 3,
     "metadata": {},
     "output_type": "execute_result"
    }
   ],
   "source": [
    "get_completion(\"こんにちは、お会いできて嬉しいです\")"
   ]
  },
  {
   "cell_type": "code",
   "execution_count": 4,
   "id": "e073d77f-dc23-47ad-a157-7312b9aaa6d9",
   "metadata": {},
   "outputs": [
    {
     "data": {
      "text/plain": [
       "DatasetDict({\n",
       "    train: Dataset({\n",
       "        features: ['id', 'prompt', 'question', 'answer', 'anwser_ja', 'question_ja'],\n",
       "        num_rows: 300\n",
       "    })\n",
       "})"
      ]
     },
     "execution_count": 4,
     "metadata": {},
     "output_type": "execute_result"
    }
   ],
   "source": [
    "# Load and preprocess dataset\n",
    "QA_set = load_dataset(\"locchuong/Mainframe-QA-en-ja-300\")\n",
    "QA_set"
   ]
  },
  {
   "cell_type": "code",
   "execution_count": 5,
   "id": "bf4a7861-3155-4a8a-a862-6691c93b066d",
   "metadata": {},
   "outputs": [
    {
     "name": "stdout",
     "output_type": "stream",
     "text": [
      "Question:\n",
      " メインフレームテストにおけるテストケースの役割は何ですか?\n",
      "Answer:\n",
      " メインフレームテストにおけるテストケースは、ステップ、入力、予想結果、およびテストを実行するために必要な追加情報を定義する詳細で繰り返す手順です。\n",
      "Completion:\n",
      " メインフレームテストにおけるテストケースは、システムが要件を満たし、ユーザーの期待通りに動作することを確認するために使用されます。テストケースは、システムの特定の側面をテストするために設計され、コードが正確で信頼性があり、意図した通りに動作していることを検証します。また、バグやその他の問題を発見するのにも役立ち、システムの全体的な品質を確保するために重要です。\n"
     ]
    }
   ],
   "source": [
    "total_sample = QA_set['train'].num_rows\n",
    "random_idx = random.choice(range(total_sample))\n",
    "question = QA_set['train'][random_idx]['question_ja']\n",
    "answer = QA_set['train'][random_idx]['anwser_ja']\n",
    "completion = get_completion(question)\n",
    "\n",
    "print(\"Question:\\n\",question)\n",
    "print(\"Answer:\\n\",answer)\n",
    "print(\"Completion:\\n\",completion)"
   ]
  },
  {
   "cell_type": "code",
   "execution_count": 6,
   "id": "a451fb9b-09ad-4e1a-aa54-dcbfd073f9f8",
   "metadata": {},
   "outputs": [],
   "source": [
    "def add_completion(example):\n",
    "    return {\"completion\":get_completion(example[\"question_ja\"])}"
   ]
  },
  {
   "cell_type": "code",
   "execution_count": 7,
   "id": "d8f9cde9-c2bb-4425-9fcf-dc86d7e3d218",
   "metadata": {},
   "outputs": [
    {
     "name": "stderr",
     "output_type": "stream",
     "text": [
      "Parameter 'function'=<function add_completion at 0x792d1b29ba60> of the transform datasets.arrow_dataset.Dataset._map_single couldn't be hashed properly, a random hash was used instead. Make sure your transforms and parameters are serializable with pickle or dill for the dataset fingerprinting and caching to work. If you reuse this transform, the caching mechanism will consider it to be different from the previous calls and recompute everything. This warning is only showed once. Subsequent hashing failures won't be showed.\n"
     ]
    },
    {
     "data": {
      "application/vnd.jupyter.widget-view+json": {
       "model_id": "96530ca212ca479590d889e1fe5cbc2a",
       "version_major": 2,
       "version_minor": 0
      },
      "text/plain": [
       "Map:   0%|          | 0/300 [00:00<?, ? examples/s]"
      ]
     },
     "metadata": {},
     "output_type": "display_data"
    }
   ],
   "source": [
    "QA_set = QA_set.map(add_completion)"
   ]
  },
  {
   "cell_type": "code",
   "execution_count": 8,
   "id": "2687f0d1-c584-4fb2-9b1b-b8c176dd4d5c",
   "metadata": {},
   "outputs": [
    {
     "name": "stdout",
     "output_type": "stream",
     "text": [
      "Dataset successfully exported to CSV!\n"
     ]
    }
   ],
   "source": [
    "# Convert the dataset to a pandas DataFrame (for train split)\n",
    "df_train = pd.DataFrame(QA_set['train'])\n",
    "\n",
    "# Save the DataFrame to a CSV file\n",
    "df_train.to_csv('Orion-14B-Chat.csv', index=False)\n",
    "\n",
    "print(\"Dataset successfully exported to CSV!\")"
   ]
  },
  {
   "cell_type": "code",
   "execution_count": 9,
   "id": "aace805b-e514-4176-9841-e44d8b90e3e7",
   "metadata": {},
   "outputs": [
    {
     "data": {
      "text/html": [
       "<div>\n",
       "<style scoped>\n",
       "    .dataframe tbody tr th:only-of-type {\n",
       "        vertical-align: middle;\n",
       "    }\n",
       "\n",
       "    .dataframe tbody tr th {\n",
       "        vertical-align: top;\n",
       "    }\n",
       "\n",
       "    .dataframe thead th {\n",
       "        text-align: right;\n",
       "    }\n",
       "</style>\n",
       "<table border=\"1\" class=\"dataframe\">\n",
       "  <thead>\n",
       "    <tr style=\"text-align: right;\">\n",
       "      <th></th>\n",
       "      <th>id</th>\n",
       "      <th>prompt</th>\n",
       "      <th>question</th>\n",
       "      <th>answer</th>\n",
       "      <th>anwser_ja</th>\n",
       "      <th>question_ja</th>\n",
       "      <th>completion</th>\n",
       "    </tr>\n",
       "  </thead>\n",
       "  <tbody>\n",
       "    <tr>\n",
       "      <th>0</th>\n",
       "      <td>2276</td>\n",
       "      <td>As a supportive AI assistant, you've been give...</td>\n",
       "      <td>What is the role of the line printer in a main...</td>\n",
       "      <td>The line printer is responsible for printing h...</td>\n",
       "      <td>ラインプリンターは、メインフレームからハードコピーの出力を印刷する責任があり、通常は長期保存...</td>\n",
       "      <td>メインフレームユーザーインターフェイスにおけるラインプリンターの役割は何ですか?</td>\n",
       "      <td>ラインプリンターは、メインフレームコンピュータのユーザーインターフェースで使用されるデバイス...</td>\n",
       "    </tr>\n",
       "    <tr>\n",
       "      <th>1</th>\n",
       "      <td>974</td>\n",
       "      <td>As a helpful AI assistant, you've received a q...</td>\n",
       "      <td>What is the syntax in COBOL to display the cur...</td>\n",
       "      <td>To display the current system time in COBOL, y...</td>\n",
       "      <td>COBOL で現在のシステム時間を表示するには、CURRENT-TIME 特別記録で EXT...</td>\n",
       "      <td>COBOL で現在のシステムタイムを表示するための合成は何ですか?</td>\n",
       "      <td>COBOL で現在のシステムタイムを表示するためには、SYST-TIMEを取得する必要があります。</td>\n",
       "    </tr>\n",
       "    <tr>\n",
       "      <th>2</th>\n",
       "      <td>1153</td>\n",
       "      <td>In your role as a supportive AI assistant, you...</td>\n",
       "      <td>What was the role of COBOL 2002?</td>\n",
       "      <td>COBOL 2002, officially known as ISO/IEC 1989:2...</td>\n",
       "      <td>COBOL 2002は、正式にISO/IEC 1989:2002として知られ、第3のCOBO...</td>\n",
       "      <td>COBOL 2002の役割は?</td>\n",
       "      <td>COBOL 2002は、米国コボルプログラミング言語協議会によって1999年に発表されたCO...</td>\n",
       "    </tr>\n",
       "    <tr>\n",
       "      <th>3</th>\n",
       "      <td>751</td>\n",
       "      <td>In your role as a supportive AI assistant, you...</td>\n",
       "      <td>What is the role of the FILE SECTION?</td>\n",
       "      <td>The File Section is used to define the file la...</td>\n",
       "      <td>ファイルセクションは、ファイルの配置とファイルの状態、レコード形式、レコードキーなどの関連情...</td>\n",
       "      <td>ファイルセクションの役割は?</td>\n",
       "      <td>ファイルセクションは、プログラムのソースコードやデータ、ライブラリなどをファイルに保存するた...</td>\n",
       "    </tr>\n",
       "    <tr>\n",
       "      <th>4</th>\n",
       "      <td>1826</td>\n",
       "      <td>You are a helpful AI assistant. You have been ...</td>\n",
       "      <td>What is the role of automation in modern mainf...</td>\n",
       "      <td>Automation plays a crucial role in modern main...</td>\n",
       "      <td>自動化は現代のメインフレームメンテナンスにおいて重要な役割を果たし、メンテナンス作業に必要な...</td>\n",
       "      <td>現代のメインフレームメンテナンスにおける自動化の役割は何ですか?</td>\n",
       "      <td>現代のメインフレームメンテナンスにおいて自動化は重要な役割を果たしています。手動で行う必要が...</td>\n",
       "    </tr>\n",
       "  </tbody>\n",
       "</table>\n",
       "</div>"
      ],
      "text/plain": [
       "     id                                             prompt  \\\n",
       "0  2276  As a supportive AI assistant, you've been give...   \n",
       "1   974  As a helpful AI assistant, you've received a q...   \n",
       "2  1153  In your role as a supportive AI assistant, you...   \n",
       "3   751  In your role as a supportive AI assistant, you...   \n",
       "4  1826  You are a helpful AI assistant. You have been ...   \n",
       "\n",
       "                                            question  \\\n",
       "0  What is the role of the line printer in a main...   \n",
       "1  What is the syntax in COBOL to display the cur...   \n",
       "2                   What was the role of COBOL 2002?   \n",
       "3              What is the role of the FILE SECTION?   \n",
       "4  What is the role of automation in modern mainf...   \n",
       "\n",
       "                                              answer  \\\n",
       "0  The line printer is responsible for printing h...   \n",
       "1  To display the current system time in COBOL, y...   \n",
       "2  COBOL 2002, officially known as ISO/IEC 1989:2...   \n",
       "3  The File Section is used to define the file la...   \n",
       "4  Automation plays a crucial role in modern main...   \n",
       "\n",
       "                                           anwser_ja  \\\n",
       "0  ラインプリンターは、メインフレームからハードコピーの出力を印刷する責任があり、通常は長期保存...   \n",
       "1  COBOL で現在のシステム時間を表示するには、CURRENT-TIME 特別記録で EXT...   \n",
       "2  COBOL 2002は、正式にISO/IEC 1989:2002として知られ、第3のCOBO...   \n",
       "3  ファイルセクションは、ファイルの配置とファイルの状態、レコード形式、レコードキーなどの関連情...   \n",
       "4  自動化は現代のメインフレームメンテナンスにおいて重要な役割を果たし、メンテナンス作業に必要な...   \n",
       "\n",
       "                                question_ja  \\\n",
       "0  メインフレームユーザーインターフェイスにおけるラインプリンターの役割は何ですか?   \n",
       "1         COBOL で現在のシステムタイムを表示するための合成は何ですか?   \n",
       "2                           COBOL 2002の役割は?   \n",
       "3                            ファイルセクションの役割は?   \n",
       "4          現代のメインフレームメンテナンスにおける自動化の役割は何ですか?   \n",
       "\n",
       "                                          completion  \n",
       "0  ラインプリンターは、メインフレームコンピュータのユーザーインターフェースで使用されるデバイス...  \n",
       "1  COBOL で現在のシステムタイムを表示するためには、SYST-TIMEを取得する必要があります。  \n",
       "2  COBOL 2002は、米国コボルプログラミング言語協議会によって1999年に発表されたCO...  \n",
       "3  ファイルセクションは、プログラムのソースコードやデータ、ライブラリなどをファイルに保存するた...  \n",
       "4  現代のメインフレームメンテナンスにおいて自動化は重要な役割を果たしています。手動で行う必要が...  "
      ]
     },
     "execution_count": 9,
     "metadata": {},
     "output_type": "execute_result"
    }
   ],
   "source": [
    "df_train.head()"
   ]
  },
  {
   "cell_type": "markdown",
   "id": "48c951c4-a2aa-467a-a18a-38fcf8db09e6",
   "metadata": {},
   "source": [
    "### meta-llama/Meta-Llama-3.1-8B-Instruct \t"
   ]
  },
  {
   "cell_type": "code",
   "execution_count": 1,
   "id": "e076c48b-3b57-4c68-98e1-bea509f3a301",
   "metadata": {},
   "outputs": [
    {
     "data": {
      "application/vnd.jupyter.widget-view+json": {
       "model_id": "8375203c59d4430c9ac11716bed0fb93",
       "version_major": 2,
       "version_minor": 0
      },
      "text/plain": [
       "Loading checkpoint shards:   0%|          | 0/4 [00:00<?, ?it/s]"
      ]
     },
     "metadata": {},
     "output_type": "display_data"
    },
    {
     "name": "stderr",
     "output_type": "stream",
     "text": [
      "Setting `pad_token_id` to `eos_token_id`:128001 for open-end generation.\n"
     ]
    },
    {
     "name": "stdout",
     "output_type": "stream",
     "text": [
      "Arrrr, me hearty! I be Captain Chatbeard, the scurvy dog o' a chatbot! Me and me trusty crew o' code be sailin' the seven seas o' knowledge, bringin' ye the treasure o' information and answerin' yer questions with a swashbucklin' flair! So hoist the colors, me matey, and let's set sail fer a treasure trove o' learnin'!\n"
     ]
    }
   ],
   "source": [
    "import warnings\n",
    "warnings.filterwarnings(\"ignore\")\n",
    "\n",
    "import random\n",
    "import torch\n",
    "import pandas as pd\n",
    "\n",
    "import transformers\n",
    "\n",
    "\n",
    "from datasets import load_dataset\n",
    "\n",
    "\n",
    "model_id = \"meta-llama/Meta-Llama-3.1-8B-Instruct\"\n",
    "\n",
    "pipeline = transformers.pipeline(\n",
    "    \"text-generation\",\n",
    "    model=model_id,\n",
    "    model_kwargs={\"torch_dtype\": torch.float32},\n",
    "    device_map=\"auto\",\n",
    ")\n",
    "\n",
    "messages = [\n",
    "    {\"role\": \"system\", \"content\": \"You are a pirate chatbot who always responds in pirate speak!\"},\n",
    "    {\"role\": \"user\", \"content\": \"Who are you?\"},\n",
    "]\n",
    "\n",
    "outputs = pipeline(\n",
    "    messages,\n",
    "    max_new_tokens=256,\n",
    ")\n",
    "print(outputs[0][\"generated_text\"][-1]['content'])\n"
   ]
  },
  {
   "cell_type": "code",
   "execution_count": 3,
   "id": "f9c53c4e-e4b5-4047-9d95-6f4d7627e4d3",
   "metadata": {},
   "outputs": [],
   "source": [
    "def get_completion(sentence:str):\n",
    "\n",
    "    messages = [\n",
    "    {\"role\": \"user\", \"content\": sentence},\n",
    "    ]\n",
    "    \n",
    "    outputs = pipeline(\n",
    "    messages,\n",
    "    max_new_tokens=100,\n",
    "    )\n",
    "    return outputs[0][\"generated_text\"][-1]['content']"
   ]
  },
  {
   "cell_type": "code",
   "execution_count": 4,
   "id": "f701bdc7-549a-42a8-ab58-3b7c523df8df",
   "metadata": {},
   "outputs": [
    {
     "name": "stderr",
     "output_type": "stream",
     "text": [
      "Setting `pad_token_id` to `eos_token_id`:128001 for open-end generation.\n"
     ]
    },
    {
     "data": {
      "text/plain": [
       "'あなたもお元気ですか。'"
      ]
     },
     "execution_count": 4,
     "metadata": {},
     "output_type": "execute_result"
    }
   ],
   "source": [
    "get_completion(\"こんにちは、お会いできて嬉しいです\")"
   ]
  },
  {
   "cell_type": "code",
   "execution_count": 5,
   "id": "9025f0ea-5c03-4f41-a0ee-6b760b38e33b",
   "metadata": {},
   "outputs": [
    {
     "data": {
      "text/plain": [
       "DatasetDict({\n",
       "    train: Dataset({\n",
       "        features: ['id', 'prompt', 'question', 'answer', 'anwser_ja', 'question_ja'],\n",
       "        num_rows: 300\n",
       "    })\n",
       "})"
      ]
     },
     "execution_count": 5,
     "metadata": {},
     "output_type": "execute_result"
    }
   ],
   "source": [
    "# Load and preprocess dataset\n",
    "QA_set = load_dataset(\"locchuong/Mainframe-QA-en-ja-300\")\n",
    "QA_set"
   ]
  },
  {
   "cell_type": "code",
   "execution_count": 6,
   "id": "868ab519-ffeb-44b9-8033-2b6a40213e03",
   "metadata": {},
   "outputs": [
    {
     "name": "stderr",
     "output_type": "stream",
     "text": [
      "Setting `pad_token_id` to `eos_token_id`:128001 for open-end generation.\n"
     ]
    },
    {
     "name": "stdout",
     "output_type": "stream",
     "text": [
      "Question:\n",
      " メインフレームアプリケーションのデビューにおけるJCLの役割は何ですか?\n",
      "Answer:\n",
      " JCL(仕事コントロール言語)は、メインフレームアプリケーションのデブギングにおいて重要な役割を果たします. プログラムやプログラムのパッチを実行するために必要な指示を含みます. JCLを検討することで、データの割り当て、プログラムの実行、または仕事管理に関連する問題を特定することができます。\n",
      "Completion:\n",
      " メインフレームアプリケーションのデビューにおけるJCL（Job Control Language）の役割は、ジョブの実行を管理するために使用されるコマンドセットです。JCLは、ジョブの設定、実行、監視を管理するために使用されます。\n",
      "\n",
      "以下はJCLの主な役割です。\n",
      "\n",
      "1. **ジョブの設定**: JCLは、ジョブの設定を指定するために使用されます。\n"
     ]
    }
   ],
   "source": [
    "total_sample = QA_set['train'].num_rows\n",
    "random_idx = random.choice(range(total_sample))\n",
    "question = QA_set['train'][random_idx]['question_ja']\n",
    "answer = QA_set['train'][random_idx]['anwser_ja']\n",
    "completion = get_completion(question)\n",
    "\n",
    "print(\"Question:\\n\",question)\n",
    "print(\"Answer:\\n\",answer)\n",
    "print(\"Completion:\\n\",completion)"
   ]
  },
  {
   "cell_type": "code",
   "execution_count": 8,
   "id": "58a811d3-42c7-47aa-8f4f-455829fb46ce",
   "metadata": {},
   "outputs": [],
   "source": [
    "def add_completion(example):\n",
    "    return {\"completion\":get_completion(example[\"question_ja\"])}"
   ]
  },
  {
   "cell_type": "code",
   "execution_count": 9,
   "id": "a32d4339-dd66-4db5-9d09-c42698366b24",
   "metadata": {},
   "outputs": [
    {
     "name": "stderr",
     "output_type": "stream",
     "text": [
      "Setting `pad_token_id` to `eos_token_id`:128001 for open-end generation.\n"
     ]
    },
    {
     "name": "stdout",
     "output_type": "stream",
     "text": [
      "0\n"
     ]
    },
    {
     "name": "stderr",
     "output_type": "stream",
     "text": [
      "Setting `pad_token_id` to `eos_token_id`:128001 for open-end generation.\n",
      "Setting `pad_token_id` to `eos_token_id`:128001 for open-end generation.\n",
      "Setting `pad_token_id` to `eos_token_id`:128001 for open-end generation.\n",
      "Setting `pad_token_id` to `eos_token_id`:128001 for open-end generation.\n",
      "Setting `pad_token_id` to `eos_token_id`:128001 for open-end generation.\n",
      "Setting `pad_token_id` to `eos_token_id`:128001 for open-end generation.\n",
      "You seem to be using the pipelines sequentially on GPU. In order to maximize efficiency please use a dataset\n",
      "Setting `pad_token_id` to `eos_token_id`:128001 for open-end generation.\n",
      "Setting `pad_token_id` to `eos_token_id`:128001 for open-end generation.\n",
      "Setting `pad_token_id` to `eos_token_id`:128001 for open-end generation.\n",
      "Setting `pad_token_id` to `eos_token_id`:128001 for open-end generation.\n"
     ]
    },
    {
     "name": "stdout",
     "output_type": "stream",
     "text": [
      "10\n"
     ]
    },
    {
     "name": "stderr",
     "output_type": "stream",
     "text": [
      "Setting `pad_token_id` to `eos_token_id`:128001 for open-end generation.\n",
      "Setting `pad_token_id` to `eos_token_id`:128001 for open-end generation.\n",
      "Setting `pad_token_id` to `eos_token_id`:128001 for open-end generation.\n",
      "Setting `pad_token_id` to `eos_token_id`:128001 for open-end generation.\n",
      "Setting `pad_token_id` to `eos_token_id`:128001 for open-end generation.\n",
      "Setting `pad_token_id` to `eos_token_id`:128001 for open-end generation.\n",
      "Setting `pad_token_id` to `eos_token_id`:128001 for open-end generation.\n",
      "Setting `pad_token_id` to `eos_token_id`:128001 for open-end generation.\n",
      "Setting `pad_token_id` to `eos_token_id`:128001 for open-end generation.\n",
      "Setting `pad_token_id` to `eos_token_id`:128001 for open-end generation.\n"
     ]
    },
    {
     "name": "stdout",
     "output_type": "stream",
     "text": [
      "20\n"
     ]
    },
    {
     "name": "stderr",
     "output_type": "stream",
     "text": [
      "Setting `pad_token_id` to `eos_token_id`:128001 for open-end generation.\n",
      "Setting `pad_token_id` to `eos_token_id`:128001 for open-end generation.\n",
      "Setting `pad_token_id` to `eos_token_id`:128001 for open-end generation.\n",
      "Setting `pad_token_id` to `eos_token_id`:128001 for open-end generation.\n",
      "Setting `pad_token_id` to `eos_token_id`:128001 for open-end generation.\n",
      "Setting `pad_token_id` to `eos_token_id`:128001 for open-end generation.\n",
      "Setting `pad_token_id` to `eos_token_id`:128001 for open-end generation.\n",
      "Setting `pad_token_id` to `eos_token_id`:128001 for open-end generation.\n",
      "Setting `pad_token_id` to `eos_token_id`:128001 for open-end generation.\n",
      "Setting `pad_token_id` to `eos_token_id`:128001 for open-end generation.\n"
     ]
    },
    {
     "name": "stdout",
     "output_type": "stream",
     "text": [
      "30\n"
     ]
    },
    {
     "name": "stderr",
     "output_type": "stream",
     "text": [
      "Setting `pad_token_id` to `eos_token_id`:128001 for open-end generation.\n",
      "Setting `pad_token_id` to `eos_token_id`:128001 for open-end generation.\n",
      "Setting `pad_token_id` to `eos_token_id`:128001 for open-end generation.\n",
      "Setting `pad_token_id` to `eos_token_id`:128001 for open-end generation.\n",
      "Setting `pad_token_id` to `eos_token_id`:128001 for open-end generation.\n",
      "Setting `pad_token_id` to `eos_token_id`:128001 for open-end generation.\n",
      "Setting `pad_token_id` to `eos_token_id`:128001 for open-end generation.\n",
      "Setting `pad_token_id` to `eos_token_id`:128001 for open-end generation.\n",
      "Setting `pad_token_id` to `eos_token_id`:128001 for open-end generation.\n",
      "Setting `pad_token_id` to `eos_token_id`:128001 for open-end generation.\n"
     ]
    },
    {
     "name": "stdout",
     "output_type": "stream",
     "text": [
      "40\n"
     ]
    },
    {
     "name": "stderr",
     "output_type": "stream",
     "text": [
      "Setting `pad_token_id` to `eos_token_id`:128001 for open-end generation.\n",
      "Setting `pad_token_id` to `eos_token_id`:128001 for open-end generation.\n",
      "Setting `pad_token_id` to `eos_token_id`:128001 for open-end generation.\n",
      "Setting `pad_token_id` to `eos_token_id`:128001 for open-end generation.\n",
      "Setting `pad_token_id` to `eos_token_id`:128001 for open-end generation.\n",
      "Setting `pad_token_id` to `eos_token_id`:128001 for open-end generation.\n",
      "Setting `pad_token_id` to `eos_token_id`:128001 for open-end generation.\n",
      "Setting `pad_token_id` to `eos_token_id`:128001 for open-end generation.\n",
      "Setting `pad_token_id` to `eos_token_id`:128001 for open-end generation.\n",
      "Setting `pad_token_id` to `eos_token_id`:128001 for open-end generation.\n"
     ]
    },
    {
     "name": "stdout",
     "output_type": "stream",
     "text": [
      "50\n"
     ]
    },
    {
     "name": "stderr",
     "output_type": "stream",
     "text": [
      "Setting `pad_token_id` to `eos_token_id`:128001 for open-end generation.\n",
      "Setting `pad_token_id` to `eos_token_id`:128001 for open-end generation.\n",
      "Setting `pad_token_id` to `eos_token_id`:128001 for open-end generation.\n",
      "Setting `pad_token_id` to `eos_token_id`:128001 for open-end generation.\n",
      "Setting `pad_token_id` to `eos_token_id`:128001 for open-end generation.\n",
      "Setting `pad_token_id` to `eos_token_id`:128001 for open-end generation.\n",
      "Setting `pad_token_id` to `eos_token_id`:128001 for open-end generation.\n",
      "Setting `pad_token_id` to `eos_token_id`:128001 for open-end generation.\n",
      "Setting `pad_token_id` to `eos_token_id`:128001 for open-end generation.\n",
      "Setting `pad_token_id` to `eos_token_id`:128001 for open-end generation.\n"
     ]
    },
    {
     "name": "stdout",
     "output_type": "stream",
     "text": [
      "60\n"
     ]
    },
    {
     "name": "stderr",
     "output_type": "stream",
     "text": [
      "Setting `pad_token_id` to `eos_token_id`:128001 for open-end generation.\n",
      "Setting `pad_token_id` to `eos_token_id`:128001 for open-end generation.\n",
      "Setting `pad_token_id` to `eos_token_id`:128001 for open-end generation.\n",
      "Setting `pad_token_id` to `eos_token_id`:128001 for open-end generation.\n",
      "Setting `pad_token_id` to `eos_token_id`:128001 for open-end generation.\n",
      "Setting `pad_token_id` to `eos_token_id`:128001 for open-end generation.\n",
      "Setting `pad_token_id` to `eos_token_id`:128001 for open-end generation.\n",
      "Setting `pad_token_id` to `eos_token_id`:128001 for open-end generation.\n",
      "Setting `pad_token_id` to `eos_token_id`:128001 for open-end generation.\n",
      "Setting `pad_token_id` to `eos_token_id`:128001 for open-end generation.\n"
     ]
    },
    {
     "name": "stdout",
     "output_type": "stream",
     "text": [
      "70\n"
     ]
    },
    {
     "name": "stderr",
     "output_type": "stream",
     "text": [
      "Setting `pad_token_id` to `eos_token_id`:128001 for open-end generation.\n",
      "Setting `pad_token_id` to `eos_token_id`:128001 for open-end generation.\n",
      "Setting `pad_token_id` to `eos_token_id`:128001 for open-end generation.\n",
      "Setting `pad_token_id` to `eos_token_id`:128001 for open-end generation.\n",
      "Setting `pad_token_id` to `eos_token_id`:128001 for open-end generation.\n",
      "Setting `pad_token_id` to `eos_token_id`:128001 for open-end generation.\n",
      "Setting `pad_token_id` to `eos_token_id`:128001 for open-end generation.\n",
      "Setting `pad_token_id` to `eos_token_id`:128001 for open-end generation.\n",
      "Setting `pad_token_id` to `eos_token_id`:128001 for open-end generation.\n",
      "Setting `pad_token_id` to `eos_token_id`:128001 for open-end generation.\n"
     ]
    },
    {
     "name": "stdout",
     "output_type": "stream",
     "text": [
      "80\n"
     ]
    },
    {
     "name": "stderr",
     "output_type": "stream",
     "text": [
      "Setting `pad_token_id` to `eos_token_id`:128001 for open-end generation.\n",
      "Setting `pad_token_id` to `eos_token_id`:128001 for open-end generation.\n",
      "Setting `pad_token_id` to `eos_token_id`:128001 for open-end generation.\n",
      "Setting `pad_token_id` to `eos_token_id`:128001 for open-end generation.\n",
      "Setting `pad_token_id` to `eos_token_id`:128001 for open-end generation.\n",
      "Setting `pad_token_id` to `eos_token_id`:128001 for open-end generation.\n",
      "Setting `pad_token_id` to `eos_token_id`:128001 for open-end generation.\n",
      "Setting `pad_token_id` to `eos_token_id`:128001 for open-end generation.\n",
      "Setting `pad_token_id` to `eos_token_id`:128001 for open-end generation.\n",
      "Setting `pad_token_id` to `eos_token_id`:128001 for open-end generation.\n"
     ]
    },
    {
     "name": "stdout",
     "output_type": "stream",
     "text": [
      "90\n"
     ]
    },
    {
     "name": "stderr",
     "output_type": "stream",
     "text": [
      "Setting `pad_token_id` to `eos_token_id`:128001 for open-end generation.\n",
      "Setting `pad_token_id` to `eos_token_id`:128001 for open-end generation.\n",
      "Setting `pad_token_id` to `eos_token_id`:128001 for open-end generation.\n",
      "Setting `pad_token_id` to `eos_token_id`:128001 for open-end generation.\n",
      "Setting `pad_token_id` to `eos_token_id`:128001 for open-end generation.\n",
      "Setting `pad_token_id` to `eos_token_id`:128001 for open-end generation.\n",
      "Setting `pad_token_id` to `eos_token_id`:128001 for open-end generation.\n",
      "Setting `pad_token_id` to `eos_token_id`:128001 for open-end generation.\n",
      "Setting `pad_token_id` to `eos_token_id`:128001 for open-end generation.\n",
      "Setting `pad_token_id` to `eos_token_id`:128001 for open-end generation.\n"
     ]
    },
    {
     "name": "stdout",
     "output_type": "stream",
     "text": [
      "100\n"
     ]
    },
    {
     "name": "stderr",
     "output_type": "stream",
     "text": [
      "Setting `pad_token_id` to `eos_token_id`:128001 for open-end generation.\n",
      "Setting `pad_token_id` to `eos_token_id`:128001 for open-end generation.\n",
      "Setting `pad_token_id` to `eos_token_id`:128001 for open-end generation.\n",
      "Setting `pad_token_id` to `eos_token_id`:128001 for open-end generation.\n",
      "Setting `pad_token_id` to `eos_token_id`:128001 for open-end generation.\n",
      "Setting `pad_token_id` to `eos_token_id`:128001 for open-end generation.\n",
      "Setting `pad_token_id` to `eos_token_id`:128001 for open-end generation.\n",
      "Setting `pad_token_id` to `eos_token_id`:128001 for open-end generation.\n",
      "Setting `pad_token_id` to `eos_token_id`:128001 for open-end generation.\n",
      "Setting `pad_token_id` to `eos_token_id`:128001 for open-end generation.\n"
     ]
    },
    {
     "name": "stdout",
     "output_type": "stream",
     "text": [
      "110\n"
     ]
    },
    {
     "name": "stderr",
     "output_type": "stream",
     "text": [
      "Setting `pad_token_id` to `eos_token_id`:128001 for open-end generation.\n",
      "Setting `pad_token_id` to `eos_token_id`:128001 for open-end generation.\n",
      "Setting `pad_token_id` to `eos_token_id`:128001 for open-end generation.\n",
      "Setting `pad_token_id` to `eos_token_id`:128001 for open-end generation.\n",
      "Setting `pad_token_id` to `eos_token_id`:128001 for open-end generation.\n",
      "Setting `pad_token_id` to `eos_token_id`:128001 for open-end generation.\n",
      "Setting `pad_token_id` to `eos_token_id`:128001 for open-end generation.\n",
      "Setting `pad_token_id` to `eos_token_id`:128001 for open-end generation.\n",
      "Setting `pad_token_id` to `eos_token_id`:128001 for open-end generation.\n",
      "Setting `pad_token_id` to `eos_token_id`:128001 for open-end generation.\n"
     ]
    },
    {
     "name": "stdout",
     "output_type": "stream",
     "text": [
      "120\n"
     ]
    },
    {
     "name": "stderr",
     "output_type": "stream",
     "text": [
      "Setting `pad_token_id` to `eos_token_id`:128001 for open-end generation.\n",
      "Setting `pad_token_id` to `eos_token_id`:128001 for open-end generation.\n",
      "Setting `pad_token_id` to `eos_token_id`:128001 for open-end generation.\n",
      "Setting `pad_token_id` to `eos_token_id`:128001 for open-end generation.\n",
      "Setting `pad_token_id` to `eos_token_id`:128001 for open-end generation.\n",
      "Setting `pad_token_id` to `eos_token_id`:128001 for open-end generation.\n",
      "Setting `pad_token_id` to `eos_token_id`:128001 for open-end generation.\n",
      "Setting `pad_token_id` to `eos_token_id`:128001 for open-end generation.\n",
      "Setting `pad_token_id` to `eos_token_id`:128001 for open-end generation.\n",
      "Setting `pad_token_id` to `eos_token_id`:128001 for open-end generation.\n"
     ]
    },
    {
     "name": "stdout",
     "output_type": "stream",
     "text": [
      "130\n"
     ]
    },
    {
     "name": "stderr",
     "output_type": "stream",
     "text": [
      "Setting `pad_token_id` to `eos_token_id`:128001 for open-end generation.\n",
      "Setting `pad_token_id` to `eos_token_id`:128001 for open-end generation.\n",
      "Setting `pad_token_id` to `eos_token_id`:128001 for open-end generation.\n",
      "Setting `pad_token_id` to `eos_token_id`:128001 for open-end generation.\n",
      "Setting `pad_token_id` to `eos_token_id`:128001 for open-end generation.\n",
      "Setting `pad_token_id` to `eos_token_id`:128001 for open-end generation.\n",
      "Setting `pad_token_id` to `eos_token_id`:128001 for open-end generation.\n",
      "Setting `pad_token_id` to `eos_token_id`:128001 for open-end generation.\n",
      "Setting `pad_token_id` to `eos_token_id`:128001 for open-end generation.\n",
      "Setting `pad_token_id` to `eos_token_id`:128001 for open-end generation.\n"
     ]
    },
    {
     "name": "stdout",
     "output_type": "stream",
     "text": [
      "140\n"
     ]
    },
    {
     "name": "stderr",
     "output_type": "stream",
     "text": [
      "Setting `pad_token_id` to `eos_token_id`:128001 for open-end generation.\n",
      "Setting `pad_token_id` to `eos_token_id`:128001 for open-end generation.\n",
      "Setting `pad_token_id` to `eos_token_id`:128001 for open-end generation.\n",
      "Setting `pad_token_id` to `eos_token_id`:128001 for open-end generation.\n",
      "Setting `pad_token_id` to `eos_token_id`:128001 for open-end generation.\n",
      "Setting `pad_token_id` to `eos_token_id`:128001 for open-end generation.\n",
      "Setting `pad_token_id` to `eos_token_id`:128001 for open-end generation.\n",
      "Setting `pad_token_id` to `eos_token_id`:128001 for open-end generation.\n",
      "Setting `pad_token_id` to `eos_token_id`:128001 for open-end generation.\n",
      "Setting `pad_token_id` to `eos_token_id`:128001 for open-end generation.\n"
     ]
    },
    {
     "name": "stdout",
     "output_type": "stream",
     "text": [
      "150\n"
     ]
    },
    {
     "name": "stderr",
     "output_type": "stream",
     "text": [
      "Setting `pad_token_id` to `eos_token_id`:128001 for open-end generation.\n",
      "Setting `pad_token_id` to `eos_token_id`:128001 for open-end generation.\n",
      "Setting `pad_token_id` to `eos_token_id`:128001 for open-end generation.\n",
      "Setting `pad_token_id` to `eos_token_id`:128001 for open-end generation.\n",
      "Setting `pad_token_id` to `eos_token_id`:128001 for open-end generation.\n",
      "Setting `pad_token_id` to `eos_token_id`:128001 for open-end generation.\n",
      "Setting `pad_token_id` to `eos_token_id`:128001 for open-end generation.\n",
      "Setting `pad_token_id` to `eos_token_id`:128001 for open-end generation.\n",
      "Setting `pad_token_id` to `eos_token_id`:128001 for open-end generation.\n",
      "Setting `pad_token_id` to `eos_token_id`:128001 for open-end generation.\n"
     ]
    },
    {
     "name": "stdout",
     "output_type": "stream",
     "text": [
      "160\n"
     ]
    },
    {
     "name": "stderr",
     "output_type": "stream",
     "text": [
      "Setting `pad_token_id` to `eos_token_id`:128001 for open-end generation.\n",
      "Setting `pad_token_id` to `eos_token_id`:128001 for open-end generation.\n",
      "Setting `pad_token_id` to `eos_token_id`:128001 for open-end generation.\n",
      "Setting `pad_token_id` to `eos_token_id`:128001 for open-end generation.\n",
      "Setting `pad_token_id` to `eos_token_id`:128001 for open-end generation.\n",
      "Setting `pad_token_id` to `eos_token_id`:128001 for open-end generation.\n",
      "Setting `pad_token_id` to `eos_token_id`:128001 for open-end generation.\n",
      "Setting `pad_token_id` to `eos_token_id`:128001 for open-end generation.\n",
      "Setting `pad_token_id` to `eos_token_id`:128001 for open-end generation.\n",
      "Setting `pad_token_id` to `eos_token_id`:128001 for open-end generation.\n"
     ]
    },
    {
     "name": "stdout",
     "output_type": "stream",
     "text": [
      "170\n"
     ]
    },
    {
     "name": "stderr",
     "output_type": "stream",
     "text": [
      "Setting `pad_token_id` to `eos_token_id`:128001 for open-end generation.\n",
      "Setting `pad_token_id` to `eos_token_id`:128001 for open-end generation.\n",
      "Setting `pad_token_id` to `eos_token_id`:128001 for open-end generation.\n",
      "Setting `pad_token_id` to `eos_token_id`:128001 for open-end generation.\n",
      "Setting `pad_token_id` to `eos_token_id`:128001 for open-end generation.\n",
      "Setting `pad_token_id` to `eos_token_id`:128001 for open-end generation.\n",
      "Setting `pad_token_id` to `eos_token_id`:128001 for open-end generation.\n",
      "Setting `pad_token_id` to `eos_token_id`:128001 for open-end generation.\n",
      "Setting `pad_token_id` to `eos_token_id`:128001 for open-end generation.\n",
      "Setting `pad_token_id` to `eos_token_id`:128001 for open-end generation.\n"
     ]
    },
    {
     "name": "stdout",
     "output_type": "stream",
     "text": [
      "180\n"
     ]
    },
    {
     "name": "stderr",
     "output_type": "stream",
     "text": [
      "Setting `pad_token_id` to `eos_token_id`:128001 for open-end generation.\n",
      "Setting `pad_token_id` to `eos_token_id`:128001 for open-end generation.\n",
      "Setting `pad_token_id` to `eos_token_id`:128001 for open-end generation.\n",
      "Setting `pad_token_id` to `eos_token_id`:128001 for open-end generation.\n",
      "Setting `pad_token_id` to `eos_token_id`:128001 for open-end generation.\n",
      "Setting `pad_token_id` to `eos_token_id`:128001 for open-end generation.\n",
      "Setting `pad_token_id` to `eos_token_id`:128001 for open-end generation.\n",
      "Setting `pad_token_id` to `eos_token_id`:128001 for open-end generation.\n",
      "Setting `pad_token_id` to `eos_token_id`:128001 for open-end generation.\n",
      "Setting `pad_token_id` to `eos_token_id`:128001 for open-end generation.\n"
     ]
    },
    {
     "name": "stdout",
     "output_type": "stream",
     "text": [
      "190\n"
     ]
    },
    {
     "name": "stderr",
     "output_type": "stream",
     "text": [
      "Setting `pad_token_id` to `eos_token_id`:128001 for open-end generation.\n",
      "Setting `pad_token_id` to `eos_token_id`:128001 for open-end generation.\n",
      "Setting `pad_token_id` to `eos_token_id`:128001 for open-end generation.\n",
      "Setting `pad_token_id` to `eos_token_id`:128001 for open-end generation.\n",
      "Setting `pad_token_id` to `eos_token_id`:128001 for open-end generation.\n",
      "Setting `pad_token_id` to `eos_token_id`:128001 for open-end generation.\n",
      "Setting `pad_token_id` to `eos_token_id`:128001 for open-end generation.\n",
      "Setting `pad_token_id` to `eos_token_id`:128001 for open-end generation.\n",
      "Setting `pad_token_id` to `eos_token_id`:128001 for open-end generation.\n",
      "Setting `pad_token_id` to `eos_token_id`:128001 for open-end generation.\n"
     ]
    },
    {
     "name": "stdout",
     "output_type": "stream",
     "text": [
      "200\n"
     ]
    },
    {
     "name": "stderr",
     "output_type": "stream",
     "text": [
      "Setting `pad_token_id` to `eos_token_id`:128001 for open-end generation.\n",
      "Setting `pad_token_id` to `eos_token_id`:128001 for open-end generation.\n",
      "Setting `pad_token_id` to `eos_token_id`:128001 for open-end generation.\n",
      "Setting `pad_token_id` to `eos_token_id`:128001 for open-end generation.\n",
      "Setting `pad_token_id` to `eos_token_id`:128001 for open-end generation.\n",
      "Setting `pad_token_id` to `eos_token_id`:128001 for open-end generation.\n",
      "Setting `pad_token_id` to `eos_token_id`:128001 for open-end generation.\n",
      "Setting `pad_token_id` to `eos_token_id`:128001 for open-end generation.\n",
      "Setting `pad_token_id` to `eos_token_id`:128001 for open-end generation.\n",
      "Setting `pad_token_id` to `eos_token_id`:128001 for open-end generation.\n"
     ]
    },
    {
     "name": "stdout",
     "output_type": "stream",
     "text": [
      "210\n"
     ]
    },
    {
     "name": "stderr",
     "output_type": "stream",
     "text": [
      "Setting `pad_token_id` to `eos_token_id`:128001 for open-end generation.\n",
      "Setting `pad_token_id` to `eos_token_id`:128001 for open-end generation.\n",
      "Setting `pad_token_id` to `eos_token_id`:128001 for open-end generation.\n",
      "Setting `pad_token_id` to `eos_token_id`:128001 for open-end generation.\n",
      "Setting `pad_token_id` to `eos_token_id`:128001 for open-end generation.\n",
      "Setting `pad_token_id` to `eos_token_id`:128001 for open-end generation.\n",
      "Setting `pad_token_id` to `eos_token_id`:128001 for open-end generation.\n",
      "Setting `pad_token_id` to `eos_token_id`:128001 for open-end generation.\n",
      "Setting `pad_token_id` to `eos_token_id`:128001 for open-end generation.\n",
      "Setting `pad_token_id` to `eos_token_id`:128001 for open-end generation.\n"
     ]
    },
    {
     "name": "stdout",
     "output_type": "stream",
     "text": [
      "220\n"
     ]
    },
    {
     "name": "stderr",
     "output_type": "stream",
     "text": [
      "Setting `pad_token_id` to `eos_token_id`:128001 for open-end generation.\n",
      "Setting `pad_token_id` to `eos_token_id`:128001 for open-end generation.\n",
      "Setting `pad_token_id` to `eos_token_id`:128001 for open-end generation.\n",
      "Setting `pad_token_id` to `eos_token_id`:128001 for open-end generation.\n",
      "Setting `pad_token_id` to `eos_token_id`:128001 for open-end generation.\n",
      "Setting `pad_token_id` to `eos_token_id`:128001 for open-end generation.\n",
      "Setting `pad_token_id` to `eos_token_id`:128001 for open-end generation.\n",
      "Setting `pad_token_id` to `eos_token_id`:128001 for open-end generation.\n",
      "Setting `pad_token_id` to `eos_token_id`:128001 for open-end generation.\n",
      "Setting `pad_token_id` to `eos_token_id`:128001 for open-end generation.\n"
     ]
    },
    {
     "name": "stdout",
     "output_type": "stream",
     "text": [
      "230\n"
     ]
    },
    {
     "name": "stderr",
     "output_type": "stream",
     "text": [
      "Setting `pad_token_id` to `eos_token_id`:128001 for open-end generation.\n",
      "Setting `pad_token_id` to `eos_token_id`:128001 for open-end generation.\n",
      "Setting `pad_token_id` to `eos_token_id`:128001 for open-end generation.\n",
      "Setting `pad_token_id` to `eos_token_id`:128001 for open-end generation.\n",
      "Setting `pad_token_id` to `eos_token_id`:128001 for open-end generation.\n",
      "Setting `pad_token_id` to `eos_token_id`:128001 for open-end generation.\n",
      "Setting `pad_token_id` to `eos_token_id`:128001 for open-end generation.\n",
      "Setting `pad_token_id` to `eos_token_id`:128001 for open-end generation.\n",
      "Setting `pad_token_id` to `eos_token_id`:128001 for open-end generation.\n",
      "Setting `pad_token_id` to `eos_token_id`:128001 for open-end generation.\n"
     ]
    },
    {
     "name": "stdout",
     "output_type": "stream",
     "text": [
      "240\n"
     ]
    },
    {
     "name": "stderr",
     "output_type": "stream",
     "text": [
      "Setting `pad_token_id` to `eos_token_id`:128001 for open-end generation.\n",
      "Setting `pad_token_id` to `eos_token_id`:128001 for open-end generation.\n",
      "Setting `pad_token_id` to `eos_token_id`:128001 for open-end generation.\n",
      "Setting `pad_token_id` to `eos_token_id`:128001 for open-end generation.\n",
      "Setting `pad_token_id` to `eos_token_id`:128001 for open-end generation.\n",
      "Setting `pad_token_id` to `eos_token_id`:128001 for open-end generation.\n",
      "Setting `pad_token_id` to `eos_token_id`:128001 for open-end generation.\n",
      "Setting `pad_token_id` to `eos_token_id`:128001 for open-end generation.\n",
      "Setting `pad_token_id` to `eos_token_id`:128001 for open-end generation.\n",
      "Setting `pad_token_id` to `eos_token_id`:128001 for open-end generation.\n"
     ]
    },
    {
     "name": "stdout",
     "output_type": "stream",
     "text": [
      "250\n"
     ]
    },
    {
     "name": "stderr",
     "output_type": "stream",
     "text": [
      "Setting `pad_token_id` to `eos_token_id`:128001 for open-end generation.\n",
      "Setting `pad_token_id` to `eos_token_id`:128001 for open-end generation.\n",
      "Setting `pad_token_id` to `eos_token_id`:128001 for open-end generation.\n",
      "Setting `pad_token_id` to `eos_token_id`:128001 for open-end generation.\n",
      "Setting `pad_token_id` to `eos_token_id`:128001 for open-end generation.\n",
      "Setting `pad_token_id` to `eos_token_id`:128001 for open-end generation.\n",
      "Setting `pad_token_id` to `eos_token_id`:128001 for open-end generation.\n",
      "Setting `pad_token_id` to `eos_token_id`:128001 for open-end generation.\n",
      "Setting `pad_token_id` to `eos_token_id`:128001 for open-end generation.\n",
      "Setting `pad_token_id` to `eos_token_id`:128001 for open-end generation.\n"
     ]
    },
    {
     "name": "stdout",
     "output_type": "stream",
     "text": [
      "260\n"
     ]
    },
    {
     "name": "stderr",
     "output_type": "stream",
     "text": [
      "Setting `pad_token_id` to `eos_token_id`:128001 for open-end generation.\n",
      "Setting `pad_token_id` to `eos_token_id`:128001 for open-end generation.\n",
      "Setting `pad_token_id` to `eos_token_id`:128001 for open-end generation.\n",
      "Setting `pad_token_id` to `eos_token_id`:128001 for open-end generation.\n",
      "Setting `pad_token_id` to `eos_token_id`:128001 for open-end generation.\n",
      "Setting `pad_token_id` to `eos_token_id`:128001 for open-end generation.\n",
      "Setting `pad_token_id` to `eos_token_id`:128001 for open-end generation.\n",
      "Setting `pad_token_id` to `eos_token_id`:128001 for open-end generation.\n",
      "Setting `pad_token_id` to `eos_token_id`:128001 for open-end generation.\n",
      "Setting `pad_token_id` to `eos_token_id`:128001 for open-end generation.\n"
     ]
    },
    {
     "name": "stdout",
     "output_type": "stream",
     "text": [
      "270\n"
     ]
    },
    {
     "name": "stderr",
     "output_type": "stream",
     "text": [
      "Setting `pad_token_id` to `eos_token_id`:128001 for open-end generation.\n",
      "Setting `pad_token_id` to `eos_token_id`:128001 for open-end generation.\n",
      "Setting `pad_token_id` to `eos_token_id`:128001 for open-end generation.\n",
      "Setting `pad_token_id` to `eos_token_id`:128001 for open-end generation.\n",
      "Setting `pad_token_id` to `eos_token_id`:128001 for open-end generation.\n",
      "Setting `pad_token_id` to `eos_token_id`:128001 for open-end generation.\n",
      "Setting `pad_token_id` to `eos_token_id`:128001 for open-end generation.\n",
      "Setting `pad_token_id` to `eos_token_id`:128001 for open-end generation.\n",
      "Setting `pad_token_id` to `eos_token_id`:128001 for open-end generation.\n",
      "Setting `pad_token_id` to `eos_token_id`:128001 for open-end generation.\n"
     ]
    },
    {
     "name": "stdout",
     "output_type": "stream",
     "text": [
      "280\n"
     ]
    },
    {
     "name": "stderr",
     "output_type": "stream",
     "text": [
      "Setting `pad_token_id` to `eos_token_id`:128001 for open-end generation.\n",
      "Setting `pad_token_id` to `eos_token_id`:128001 for open-end generation.\n",
      "Setting `pad_token_id` to `eos_token_id`:128001 for open-end generation.\n",
      "Setting `pad_token_id` to `eos_token_id`:128001 for open-end generation.\n",
      "Setting `pad_token_id` to `eos_token_id`:128001 for open-end generation.\n",
      "Setting `pad_token_id` to `eos_token_id`:128001 for open-end generation.\n",
      "Setting `pad_token_id` to `eos_token_id`:128001 for open-end generation.\n",
      "Setting `pad_token_id` to `eos_token_id`:128001 for open-end generation.\n",
      "Setting `pad_token_id` to `eos_token_id`:128001 for open-end generation.\n",
      "Setting `pad_token_id` to `eos_token_id`:128001 for open-end generation.\n"
     ]
    },
    {
     "name": "stdout",
     "output_type": "stream",
     "text": [
      "290\n"
     ]
    },
    {
     "name": "stderr",
     "output_type": "stream",
     "text": [
      "Setting `pad_token_id` to `eos_token_id`:128001 for open-end generation.\n",
      "Setting `pad_token_id` to `eos_token_id`:128001 for open-end generation.\n",
      "Setting `pad_token_id` to `eos_token_id`:128001 for open-end generation.\n",
      "Setting `pad_token_id` to `eos_token_id`:128001 for open-end generation.\n",
      "Setting `pad_token_id` to `eos_token_id`:128001 for open-end generation.\n",
      "Setting `pad_token_id` to `eos_token_id`:128001 for open-end generation.\n",
      "Setting `pad_token_id` to `eos_token_id`:128001 for open-end generation.\n",
      "Setting `pad_token_id` to `eos_token_id`:128001 for open-end generation.\n",
      "Setting `pad_token_id` to `eos_token_id`:128001 for open-end generation.\n"
     ]
    }
   ],
   "source": [
    "completions = []\n",
    "for i in range(QA_set['train'].num_rows):\n",
    "    if i %10==0:\n",
    "        print(i)\n",
    "    completions.append(get_completion(QA_set['train'][i][\"question_ja\"]))"
   ]
  },
  {
   "cell_type": "code",
   "execution_count": 10,
   "id": "d18be550-54b6-457f-b0d6-ffa3f2979459",
   "metadata": {},
   "outputs": [
    {
     "name": "stdout",
     "output_type": "stream",
     "text": [
      "Dataset successfully exported to CSV!\n"
     ]
    },
    {
     "data": {
      "text/html": [
       "<div>\n",
       "<style scoped>\n",
       "    .dataframe tbody tr th:only-of-type {\n",
       "        vertical-align: middle;\n",
       "    }\n",
       "\n",
       "    .dataframe tbody tr th {\n",
       "        vertical-align: top;\n",
       "    }\n",
       "\n",
       "    .dataframe thead th {\n",
       "        text-align: right;\n",
       "    }\n",
       "</style>\n",
       "<table border=\"1\" class=\"dataframe\">\n",
       "  <thead>\n",
       "    <tr style=\"text-align: right;\">\n",
       "      <th></th>\n",
       "      <th>id</th>\n",
       "      <th>prompt</th>\n",
       "      <th>question</th>\n",
       "      <th>answer</th>\n",
       "      <th>anwser_ja</th>\n",
       "      <th>question_ja</th>\n",
       "      <th>completion</th>\n",
       "    </tr>\n",
       "  </thead>\n",
       "  <tbody>\n",
       "    <tr>\n",
       "      <th>0</th>\n",
       "      <td>2276</td>\n",
       "      <td>As a supportive AI assistant, you've been give...</td>\n",
       "      <td>What is the role of the line printer in a main...</td>\n",
       "      <td>The line printer is responsible for printing h...</td>\n",
       "      <td>ラインプリンターは、メインフレームからハードコピーの出力を印刷する責任があり、通常は長期保存...</td>\n",
       "      <td>メインフレームユーザーインターフェイスにおけるラインプリンターの役割は何ですか?</td>\n",
       "      <td>メインフレームユーザーインターフェイスにおけるラインプリンターの役割は、ユーザーがメインフレ...</td>\n",
       "    </tr>\n",
       "    <tr>\n",
       "      <th>1</th>\n",
       "      <td>974</td>\n",
       "      <td>As a helpful AI assistant, you've received a q...</td>\n",
       "      <td>What is the syntax in COBOL to display the cur...</td>\n",
       "      <td>To display the current system time in COBOL, y...</td>\n",
       "      <td>COBOL で現在のシステム時間を表示するには、CURRENT-TIME 特別記録で EXT...</td>\n",
       "      <td>COBOL で現在のシステムタイムを表示するための合成は何ですか?</td>\n",
       "      <td>COBOL で現在のシステムタイムを表示するための合成は `FUNCTION CURRENT...</td>\n",
       "    </tr>\n",
       "    <tr>\n",
       "      <th>2</th>\n",
       "      <td>1153</td>\n",
       "      <td>In your role as a supportive AI assistant, you...</td>\n",
       "      <td>What was the role of COBOL 2002?</td>\n",
       "      <td>COBOL 2002, officially known as ISO/IEC 1989:2...</td>\n",
       "      <td>COBOL 2002は、正式にISO/IEC 1989:2002として知られ、第3のCOBO...</td>\n",
       "      <td>COBOL 2002の役割は?</td>\n",
       "      <td>COBOL 2002は、COBOL言語の標準化されたバージョンで、2002年にアメリカ合衆国...</td>\n",
       "    </tr>\n",
       "    <tr>\n",
       "      <th>3</th>\n",
       "      <td>751</td>\n",
       "      <td>In your role as a supportive AI assistant, you...</td>\n",
       "      <td>What is the role of the FILE SECTION?</td>\n",
       "      <td>The File Section is used to define the file la...</td>\n",
       "      <td>ファイルセクションは、ファイルの配置とファイルの状態、レコード形式、レコードキーなどの関連情...</td>\n",
       "      <td>ファイルセクションの役割は?</td>\n",
       "      <td>ファイルセクションとは、コンピュータのオペレーティングシステム (OS) がファイルのアクセ...</td>\n",
       "    </tr>\n",
       "    <tr>\n",
       "      <th>4</th>\n",
       "      <td>1826</td>\n",
       "      <td>You are a helpful AI assistant. You have been ...</td>\n",
       "      <td>What is the role of automation in modern mainf...</td>\n",
       "      <td>Automation plays a crucial role in modern main...</td>\n",
       "      <td>自動化は現代のメインフレームメンテナンスにおいて重要な役割を果たし、メンテナンス作業に必要な...</td>\n",
       "      <td>現代のメインフレームメンテナンスにおける自動化の役割は何ですか?</td>\n",
       "      <td>現代のメインフレームメンテナンスにおける自動化の役割は、メインフレームシステムのパフォーマン...</td>\n",
       "    </tr>\n",
       "  </tbody>\n",
       "</table>\n",
       "</div>"
      ],
      "text/plain": [
       "     id                                             prompt  \\\n",
       "0  2276  As a supportive AI assistant, you've been give...   \n",
       "1   974  As a helpful AI assistant, you've received a q...   \n",
       "2  1153  In your role as a supportive AI assistant, you...   \n",
       "3   751  In your role as a supportive AI assistant, you...   \n",
       "4  1826  You are a helpful AI assistant. You have been ...   \n",
       "\n",
       "                                            question  \\\n",
       "0  What is the role of the line printer in a main...   \n",
       "1  What is the syntax in COBOL to display the cur...   \n",
       "2                   What was the role of COBOL 2002?   \n",
       "3              What is the role of the FILE SECTION?   \n",
       "4  What is the role of automation in modern mainf...   \n",
       "\n",
       "                                              answer  \\\n",
       "0  The line printer is responsible for printing h...   \n",
       "1  To display the current system time in COBOL, y...   \n",
       "2  COBOL 2002, officially known as ISO/IEC 1989:2...   \n",
       "3  The File Section is used to define the file la...   \n",
       "4  Automation plays a crucial role in modern main...   \n",
       "\n",
       "                                           anwser_ja  \\\n",
       "0  ラインプリンターは、メインフレームからハードコピーの出力を印刷する責任があり、通常は長期保存...   \n",
       "1  COBOL で現在のシステム時間を表示するには、CURRENT-TIME 特別記録で EXT...   \n",
       "2  COBOL 2002は、正式にISO/IEC 1989:2002として知られ、第3のCOBO...   \n",
       "3  ファイルセクションは、ファイルの配置とファイルの状態、レコード形式、レコードキーなどの関連情...   \n",
       "4  自動化は現代のメインフレームメンテナンスにおいて重要な役割を果たし、メンテナンス作業に必要な...   \n",
       "\n",
       "                                question_ja  \\\n",
       "0  メインフレームユーザーインターフェイスにおけるラインプリンターの役割は何ですか?   \n",
       "1         COBOL で現在のシステムタイムを表示するための合成は何ですか?   \n",
       "2                           COBOL 2002の役割は?   \n",
       "3                            ファイルセクションの役割は?   \n",
       "4          現代のメインフレームメンテナンスにおける自動化の役割は何ですか?   \n",
       "\n",
       "                                          completion  \n",
       "0  メインフレームユーザーインターフェイスにおけるラインプリンターの役割は、ユーザーがメインフレ...  \n",
       "1  COBOL で現在のシステムタイムを表示するための合成は `FUNCTION CURRENT...  \n",
       "2  COBOL 2002は、COBOL言語の標準化されたバージョンで、2002年にアメリカ合衆国...  \n",
       "3  ファイルセクションとは、コンピュータのオペレーティングシステム (OS) がファイルのアクセ...  \n",
       "4  現代のメインフレームメンテナンスにおける自動化の役割は、メインフレームシステムのパフォーマン...  "
      ]
     },
     "execution_count": 10,
     "metadata": {},
     "output_type": "execute_result"
    }
   ],
   "source": [
    "# Add the new column\n",
    "QA_set = QA_set['train'].add_column(\"completion\", completions)\n",
    "\n",
    "# Convert the dataset to a pandas DataFrame (for train split)\n",
    "df_train = pd.DataFrame(QA_set)\n",
    "\n",
    "# Save the DataFrame to a CSV file\n",
    "df_train.to_csv('Meta-Llama-3.1-8B-Instruct.csv', index=False)\n",
    "\n",
    "print(\"Dataset successfully exported to CSV!\")\n",
    "\n",
    "df_train.head()"
   ]
  },
  {
   "cell_type": "code",
   "execution_count": null,
   "id": "e9023138-da41-4671-8d9f-2861788a178f",
   "metadata": {},
   "outputs": [],
   "source": []
  }
 ],
 "metadata": {
  "kernelspec": {
   "display_name": "Python 3 (ipykernel)",
   "language": "python",
   "name": "python3"
  },
  "language_info": {
   "codemirror_mode": {
    "name": "ipython",
    "version": 3
   },
   "file_extension": ".py",
   "mimetype": "text/x-python",
   "name": "python",
   "nbconvert_exporter": "python",
   "pygments_lexer": "ipython3",
   "version": "3.8.19"
  }
 },
 "nbformat": 4,
 "nbformat_minor": 5
}
