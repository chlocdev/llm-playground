{
 "cells": [
  {
   "cell_type": "markdown",
   "id": "da62e2ef-7aab-4158-86e2-49afd7c20429",
   "metadata": {},
   "source": [
    "###  Fast tokenizers in the QA pipeline\n",
    "\n",
    "We will now dive into the `question-answering` pipeline and see how to leverage the offsets to grab the answer to the question at hand from the context, a bit like we did for the grouped entities in the previous section. Then we will see how we can deal with very long contexts that end up being truncated. You can skip this section if you’re not interested in the question answering task."
   ]
  },
  {
   "cell_type": "code",
   "execution_count": null,
   "id": "9f7c16de-3d95-43af-8bb5-7c32fbb7cbb7",
   "metadata": {},
   "outputs": [],
   "source": []
  }
 ],
 "metadata": {
  "kernelspec": {
   "display_name": "Python 3 (ipykernel)",
   "language": "python",
   "name": "python3"
  },
  "language_info": {
   "codemirror_mode": {
    "name": "ipython",
    "version": 3
   },
   "file_extension": ".py",
   "mimetype": "text/x-python",
   "name": "python",
   "nbconvert_exporter": "python",
   "pygments_lexer": "ipython3",
   "version": "3.8.19"
  }
 },
 "nbformat": 4,
 "nbformat_minor": 5
}
